{
 "cells": [
  {
   "cell_type": "code",
   "execution_count": 1,
   "metadata": {},
   "outputs": [
    {
     "name": "stdout",
     "output_type": "stream",
     "text": [
      "Requirement already satisfied: lightgbm in c:\\programdata\\anaconda3\\lib\\site-packages (2.3.1)\n",
      "Requirement already satisfied: numpy in c:\\programdata\\anaconda3\\lib\\site-packages (from lightgbm) (1.16.2)\n",
      "Requirement already satisfied: scikit-learn in c:\\programdata\\anaconda3\\lib\\site-packages (from lightgbm) (0.20.3)\n",
      "Requirement already satisfied: scipy in c:\\programdata\\anaconda3\\lib\\site-packages (from lightgbm) (1.2.1)\n"
     ]
    }
   ],
   "source": [
    "!pip install lightgbm\n",
    "import pandas as pd\n",
    "import numpy as np\n",
    "import seaborn as sns\n",
    "from sklearn.model_selection import train_test_split\n",
    "from lightgbm import LGBMClassifier\n",
    "from sklearn.metrics import log_loss\n",
    "import matplotlib.pyplot as plt\n",
    "from tqdm import tqdm_notebook"
   ]
  },
  {
   "cell_type": "markdown",
   "metadata": {},
   "source": [
    "# Reading the datasets"
   ]
  },
  {
   "cell_type": "code",
   "execution_count": 2,
   "metadata": {},
   "outputs": [],
   "source": [
    "train=pd.read_excel('Data_Train.xlsx')"
   ]
  },
  {
   "cell_type": "code",
   "execution_count": 3,
   "metadata": {},
   "outputs": [
    {
     "data": {
      "text/html": [
       "<div>\n",
       "<style scoped>\n",
       "    .dataframe tbody tr th:only-of-type {\n",
       "        vertical-align: middle;\n",
       "    }\n",
       "\n",
       "    .dataframe tbody tr th {\n",
       "        vertical-align: top;\n",
       "    }\n",
       "\n",
       "    .dataframe thead th {\n",
       "        text-align: right;\n",
       "    }\n",
       "</style>\n",
       "<table border=\"1\" class=\"dataframe\">\n",
       "  <thead>\n",
       "    <tr style=\"text-align: right;\">\n",
       "      <th></th>\n",
       "      <th>ID</th>\n",
       "      <th>Date</th>\n",
       "      <th>LicenseNo</th>\n",
       "      <th>FacilityID</th>\n",
       "      <th>FacilityName</th>\n",
       "      <th>Type</th>\n",
       "      <th>Street</th>\n",
       "      <th>City</th>\n",
       "      <th>State</th>\n",
       "      <th>LocationID</th>\n",
       "      <th>Reason</th>\n",
       "      <th>SectionViolations</th>\n",
       "      <th>RiskLevel</th>\n",
       "      <th>Geo_Loc</th>\n",
       "      <th>Inspection_Results</th>\n",
       "    </tr>\n",
       "  </thead>\n",
       "  <tbody>\n",
       "    <tr>\n",
       "      <th>0</th>\n",
       "      <td>31103489027986</td>\n",
       "      <td>26-04-2010</td>\n",
       "      <td>4744</td>\n",
       "      <td>8123</td>\n",
       "      <td>7715</td>\n",
       "      <td>RESTAURANT</td>\n",
       "      <td>15522</td>\n",
       "      <td>id-11235901</td>\n",
       "      <td>id_1890134</td>\n",
       "      <td>81876.0</td>\n",
       "      <td>CANVASS</td>\n",
       "      <td>33.0</td>\n",
       "      <td>High</td>\n",
       "      <td>locid16406</td>\n",
       "      <td>4</td>\n",
       "    </tr>\n",
       "    <tr>\n",
       "      <th>1</th>\n",
       "      <td>10088999935915</td>\n",
       "      <td>21-06-2009</td>\n",
       "      <td>2973</td>\n",
       "      <td>12268</td>\n",
       "      <td>11664</td>\n",
       "      <td>GROCERY STORE</td>\n",
       "      <td>3057</td>\n",
       "      <td>id-11235901</td>\n",
       "      <td>id_1890134</td>\n",
       "      <td>81862.0</td>\n",
       "      <td>COMPLAINT</td>\n",
       "      <td>33.0</td>\n",
       "      <td>High</td>\n",
       "      <td>locid878</td>\n",
       "      <td>4</td>\n",
       "    </tr>\n",
       "    <tr>\n",
       "      <th>2</th>\n",
       "      <td>40148966010272</td>\n",
       "      <td>01-05-2013</td>\n",
       "      <td>18223</td>\n",
       "      <td>1112</td>\n",
       "      <td>969</td>\n",
       "      <td>RESTAURANT</td>\n",
       "      <td>14988</td>\n",
       "      <td>id-11235901</td>\n",
       "      <td>id_1890134</td>\n",
       "      <td>81883.0</td>\n",
       "      <td>CANVASS</td>\n",
       "      <td>NaN</td>\n",
       "      <td>High</td>\n",
       "      <td>locid3368</td>\n",
       "      <td>6</td>\n",
       "    </tr>\n",
       "    <tr>\n",
       "      <th>3</th>\n",
       "      <td>37157708563676</td>\n",
       "      <td>28-09-2015</td>\n",
       "      <td>20825</td>\n",
       "      <td>20007</td>\n",
       "      <td>19115</td>\n",
       "      <td>RESTAURANT</td>\n",
       "      <td>3661</td>\n",
       "      <td>id-11235901</td>\n",
       "      <td>id_1890134</td>\n",
       "      <td>81859.0</td>\n",
       "      <td>CANVASS RE-INSPECTION</td>\n",
       "      <td>31.0</td>\n",
       "      <td>Medium</td>\n",
       "      <td>locid11839</td>\n",
       "      <td>4</td>\n",
       "    </tr>\n",
       "    <tr>\n",
       "      <th>4</th>\n",
       "      <td>47478049564374</td>\n",
       "      <td>09-12-2015</td>\n",
       "      <td>2136</td>\n",
       "      <td>16867</td>\n",
       "      <td>10409</td>\n",
       "      <td>RESTAURANT</td>\n",
       "      <td>7876</td>\n",
       "      <td>id-11235901</td>\n",
       "      <td>id_1890134</td>\n",
       "      <td>81886.0</td>\n",
       "      <td>COMPLAINT</td>\n",
       "      <td>30.0</td>\n",
       "      <td>High</td>\n",
       "      <td>locid12264</td>\n",
       "      <td>4</td>\n",
       "    </tr>\n",
       "  </tbody>\n",
       "</table>\n",
       "</div>"
      ],
      "text/plain": [
       "               ID        Date  LicenseNo  FacilityID  FacilityName  \\\n",
       "0  31103489027986  26-04-2010       4744        8123          7715   \n",
       "1  10088999935915  21-06-2009       2973       12268         11664   \n",
       "2  40148966010272  01-05-2013      18223        1112           969   \n",
       "3  37157708563676  28-09-2015      20825       20007         19115   \n",
       "4  47478049564374  09-12-2015       2136       16867         10409   \n",
       "\n",
       "            Type  Street         City       State  LocationID  \\\n",
       "0     RESTAURANT   15522  id-11235901  id_1890134     81876.0   \n",
       "1  GROCERY STORE    3057  id-11235901  id_1890134     81862.0   \n",
       "2     RESTAURANT   14988  id-11235901  id_1890134     81883.0   \n",
       "3     RESTAURANT    3661  id-11235901  id_1890134     81859.0   \n",
       "4     RESTAURANT    7876  id-11235901  id_1890134     81886.0   \n",
       "\n",
       "                  Reason  SectionViolations RiskLevel     Geo_Loc  \\\n",
       "0                CANVASS               33.0      High  locid16406   \n",
       "1              COMPLAINT               33.0      High    locid878   \n",
       "2                CANVASS                NaN      High   locid3368   \n",
       "3  CANVASS RE-INSPECTION               31.0    Medium  locid11839   \n",
       "4              COMPLAINT               30.0      High  locid12264   \n",
       "\n",
       "   Inspection_Results  \n",
       "0                   4  \n",
       "1                   4  \n",
       "2                   6  \n",
       "3                   4  \n",
       "4                   4  "
      ]
     },
     "execution_count": 3,
     "metadata": {},
     "output_type": "execute_result"
    }
   ],
   "source": [
    "train.head(5)"
   ]
  },
  {
   "cell_type": "code",
   "execution_count": 64,
   "metadata": {},
   "outputs": [
    {
     "name": "stdout",
     "output_type": "stream",
     "text": [
      "Train Dataset Shape : (147443, 15)\n"
     ]
    },
    {
     "data": {
      "text/html": [
       "<div>\n",
       "<style scoped>\n",
       "    .dataframe tbody tr th:only-of-type {\n",
       "        vertical-align: middle;\n",
       "    }\n",
       "\n",
       "    .dataframe tbody tr th {\n",
       "        vertical-align: top;\n",
       "    }\n",
       "\n",
       "    .dataframe thead th {\n",
       "        text-align: right;\n",
       "    }\n",
       "</style>\n",
       "<table border=\"1\" class=\"dataframe\">\n",
       "  <thead>\n",
       "    <tr style=\"text-align: right;\">\n",
       "      <th></th>\n",
       "      <th>ID</th>\n",
       "      <th>Date</th>\n",
       "      <th>LicenseNo</th>\n",
       "      <th>FacilityID</th>\n",
       "      <th>FacilityName</th>\n",
       "      <th>Type</th>\n",
       "      <th>Street</th>\n",
       "      <th>City</th>\n",
       "      <th>State</th>\n",
       "      <th>LocationID</th>\n",
       "      <th>Reason</th>\n",
       "      <th>SectionViolations</th>\n",
       "      <th>RiskLevel</th>\n",
       "      <th>Geo_Loc</th>\n",
       "      <th>Inspection_Results</th>\n",
       "    </tr>\n",
       "  </thead>\n",
       "  <tbody>\n",
       "    <tr>\n",
       "      <th>0</th>\n",
       "      <td>31103489027986</td>\n",
       "      <td>26-04-2010</td>\n",
       "      <td>4744</td>\n",
       "      <td>8123</td>\n",
       "      <td>7715</td>\n",
       "      <td>RESTAURANT</td>\n",
       "      <td>15522</td>\n",
       "      <td>id-11235901</td>\n",
       "      <td>id_1890134</td>\n",
       "      <td>81876.0</td>\n",
       "      <td>CANVASS</td>\n",
       "      <td>33.0</td>\n",
       "      <td>High</td>\n",
       "      <td>locid16406</td>\n",
       "      <td>4</td>\n",
       "    </tr>\n",
       "    <tr>\n",
       "      <th>1</th>\n",
       "      <td>10088999935915</td>\n",
       "      <td>21-06-2009</td>\n",
       "      <td>2973</td>\n",
       "      <td>12268</td>\n",
       "      <td>11664</td>\n",
       "      <td>GROCERY STORE</td>\n",
       "      <td>3057</td>\n",
       "      <td>id-11235901</td>\n",
       "      <td>id_1890134</td>\n",
       "      <td>81862.0</td>\n",
       "      <td>COMPLAINT</td>\n",
       "      <td>33.0</td>\n",
       "      <td>High</td>\n",
       "      <td>locid878</td>\n",
       "      <td>4</td>\n",
       "    </tr>\n",
       "    <tr>\n",
       "      <th>2</th>\n",
       "      <td>40148966010272</td>\n",
       "      <td>01-05-2013</td>\n",
       "      <td>18223</td>\n",
       "      <td>1112</td>\n",
       "      <td>969</td>\n",
       "      <td>RESTAURANT</td>\n",
       "      <td>14988</td>\n",
       "      <td>id-11235901</td>\n",
       "      <td>id_1890134</td>\n",
       "      <td>81883.0</td>\n",
       "      <td>CANVASS</td>\n",
       "      <td>NaN</td>\n",
       "      <td>High</td>\n",
       "      <td>locid3368</td>\n",
       "      <td>6</td>\n",
       "    </tr>\n",
       "  </tbody>\n",
       "</table>\n",
       "</div>"
      ],
      "text/plain": [
       "               ID        Date  LicenseNo  FacilityID  FacilityName  \\\n",
       "0  31103489027986  26-04-2010       4744        8123          7715   \n",
       "1  10088999935915  21-06-2009       2973       12268         11664   \n",
       "2  40148966010272  01-05-2013      18223        1112           969   \n",
       "\n",
       "            Type  Street         City       State  LocationID     Reason  \\\n",
       "0     RESTAURANT   15522  id-11235901  id_1890134     81876.0    CANVASS   \n",
       "1  GROCERY STORE    3057  id-11235901  id_1890134     81862.0  COMPLAINT   \n",
       "2     RESTAURANT   14988  id-11235901  id_1890134     81883.0    CANVASS   \n",
       "\n",
       "   SectionViolations RiskLevel     Geo_Loc  Inspection_Results  \n",
       "0               33.0      High  locid16406                   4  \n",
       "1               33.0      High    locid878                   4  \n",
       "2                NaN      High   locid3368                   6  "
      ]
     },
     "execution_count": 64,
     "metadata": {},
     "output_type": "execute_result"
    }
   ],
   "source": [
    "print(\"Train Dataset Shape :\", train.shape)\n",
    "train.head(3)"
   ]
  },
  {
   "cell_type": "code",
   "execution_count": 5,
   "metadata": {},
   "outputs": [
    {
     "data": {
      "text/plain": [
       "Index(['ID', 'Date', 'LicenseNo', 'FacilityID', 'FacilityName', 'Type',\n",
       "       'Street', 'City', 'State', 'LocationID', 'Reason', 'SectionViolations',\n",
       "       'RiskLevel', 'Geo_Loc', 'Inspection_Results'],\n",
       "      dtype='object')"
      ]
     },
     "execution_count": 5,
     "metadata": {},
     "output_type": "execute_result"
    }
   ],
   "source": [
    "train.columns"
   ]
  },
  {
   "cell_type": "code",
   "execution_count": 6,
   "metadata": {},
   "outputs": [],
   "source": [
    "test = pd.read_excel('Data_Test.xlsx')"
   ]
  },
  {
   "cell_type": "code",
   "execution_count": 65,
   "metadata": {},
   "outputs": [
    {
     "data": {
      "text/html": [
       "<div>\n",
       "<style scoped>\n",
       "    .dataframe tbody tr th:only-of-type {\n",
       "        vertical-align: middle;\n",
       "    }\n",
       "\n",
       "    .dataframe tbody tr th {\n",
       "        vertical-align: top;\n",
       "    }\n",
       "\n",
       "    .dataframe thead th {\n",
       "        text-align: right;\n",
       "    }\n",
       "</style>\n",
       "<table border=\"1\" class=\"dataframe\">\n",
       "  <thead>\n",
       "    <tr style=\"text-align: right;\">\n",
       "      <th></th>\n",
       "      <th>ID</th>\n",
       "      <th>Date</th>\n",
       "      <th>LicenseNo</th>\n",
       "      <th>FacilityID</th>\n",
       "      <th>FacilityName</th>\n",
       "      <th>Type</th>\n",
       "      <th>Street</th>\n",
       "      <th>City</th>\n",
       "      <th>State</th>\n",
       "      <th>LocationID</th>\n",
       "      <th>Reason</th>\n",
       "      <th>SectionViolations</th>\n",
       "      <th>RiskLevel</th>\n",
       "      <th>Geo_Loc</th>\n",
       "    </tr>\n",
       "  </thead>\n",
       "  <tbody>\n",
       "    <tr>\n",
       "      <th>0</th>\n",
       "      <td>47571900570810</td>\n",
       "      <td>19-03-2014</td>\n",
       "      <td>34218</td>\n",
       "      <td>2354</td>\n",
       "      <td>2185</td>\n",
       "      <td>GROCERY STORE</td>\n",
       "      <td>17352</td>\n",
       "      <td>id-11235901</td>\n",
       "      <td>id_1890134</td>\n",
       "      <td>81864.0</td>\n",
       "      <td>CANVASS</td>\n",
       "      <td>19.0</td>\n",
       "      <td>Low</td>\n",
       "      <td>locid1145</td>\n",
       "    </tr>\n",
       "    <tr>\n",
       "      <th>1</th>\n",
       "      <td>19685766253655</td>\n",
       "      <td>22-11-2010</td>\n",
       "      <td>24597</td>\n",
       "      <td>13183</td>\n",
       "      <td>12516</td>\n",
       "      <td>SCHOOL</td>\n",
       "      <td>15536</td>\n",
       "      <td>id-11235901</td>\n",
       "      <td>id_1890134</td>\n",
       "      <td>81871.0</td>\n",
       "      <td>CANVASS</td>\n",
       "      <td>32.0</td>\n",
       "      <td>High</td>\n",
       "      <td>locid16450</td>\n",
       "    </tr>\n",
       "    <tr>\n",
       "      <th>2</th>\n",
       "      <td>37885701847801</td>\n",
       "      <td>09-06-2014</td>\n",
       "      <td>1779</td>\n",
       "      <td>26434</td>\n",
       "      <td>25220</td>\n",
       "      <td>RESTAURANT</td>\n",
       "      <td>8849</td>\n",
       "      <td>id-11235901</td>\n",
       "      <td>id_1890134</td>\n",
       "      <td>81902.0</td>\n",
       "      <td>CANVASS</td>\n",
       "      <td>NaN</td>\n",
       "      <td>High</td>\n",
       "      <td>locid12916</td>\n",
       "    </tr>\n",
       "    <tr>\n",
       "      <th>3</th>\n",
       "      <td>39946284936679</td>\n",
       "      <td>07-04-2010</td>\n",
       "      <td>8541</td>\n",
       "      <td>16246</td>\n",
       "      <td>16384</td>\n",
       "      <td>SCHOOL</td>\n",
       "      <td>11663</td>\n",
       "      <td>id-11235901</td>\n",
       "      <td>id_1890134</td>\n",
       "      <td>81869.0</td>\n",
       "      <td>CANVASS</td>\n",
       "      <td>NaN</td>\n",
       "      <td>High</td>\n",
       "      <td>locid7292</td>\n",
       "    </tr>\n",
       "    <tr>\n",
       "      <th>4</th>\n",
       "      <td>46793577796409</td>\n",
       "      <td>25-07-2010</td>\n",
       "      <td>35194</td>\n",
       "      <td>20114</td>\n",
       "      <td>19225</td>\n",
       "      <td>RESTAURANT</td>\n",
       "      <td>16286</td>\n",
       "      <td>id-11235901</td>\n",
       "      <td>id_1890134</td>\n",
       "      <td>81874.0</td>\n",
       "      <td>CANVASS RE-INSPECTION</td>\n",
       "      <td>32.0</td>\n",
       "      <td>High</td>\n",
       "      <td>locid2048</td>\n",
       "    </tr>\n",
       "  </tbody>\n",
       "</table>\n",
       "</div>"
      ],
      "text/plain": [
       "               ID        Date  LicenseNo  FacilityID  FacilityName  \\\n",
       "0  47571900570810  19-03-2014      34218        2354          2185   \n",
       "1  19685766253655  22-11-2010      24597       13183         12516   \n",
       "2  37885701847801  09-06-2014       1779       26434         25220   \n",
       "3  39946284936679  07-04-2010       8541       16246         16384   \n",
       "4  46793577796409  25-07-2010      35194       20114         19225   \n",
       "\n",
       "            Type  Street         City       State  LocationID  \\\n",
       "0  GROCERY STORE   17352  id-11235901  id_1890134     81864.0   \n",
       "1         SCHOOL   15536  id-11235901  id_1890134     81871.0   \n",
       "2     RESTAURANT    8849  id-11235901  id_1890134     81902.0   \n",
       "3         SCHOOL   11663  id-11235901  id_1890134     81869.0   \n",
       "4     RESTAURANT   16286  id-11235901  id_1890134     81874.0   \n",
       "\n",
       "                  Reason  SectionViolations RiskLevel     Geo_Loc  \n",
       "0                CANVASS               19.0       Low   locid1145  \n",
       "1                CANVASS               32.0      High  locid16450  \n",
       "2                CANVASS                NaN      High  locid12916  \n",
       "3                CANVASS                NaN      High   locid7292  \n",
       "4  CANVASS RE-INSPECTION               32.0      High   locid2048  "
      ]
     },
     "execution_count": 65,
     "metadata": {},
     "output_type": "execute_result"
    }
   ],
   "source": [
    "test.head(5)"
   ]
  },
  {
   "cell_type": "code",
   "execution_count": 66,
   "metadata": {},
   "outputs": [
    {
     "name": "stdout",
     "output_type": "stream",
     "text": [
      "Test Dataset Shape : (49148, 14)\n"
     ]
    },
    {
     "data": {
      "text/html": [
       "<div>\n",
       "<style scoped>\n",
       "    .dataframe tbody tr th:only-of-type {\n",
       "        vertical-align: middle;\n",
       "    }\n",
       "\n",
       "    .dataframe tbody tr th {\n",
       "        vertical-align: top;\n",
       "    }\n",
       "\n",
       "    .dataframe thead th {\n",
       "        text-align: right;\n",
       "    }\n",
       "</style>\n",
       "<table border=\"1\" class=\"dataframe\">\n",
       "  <thead>\n",
       "    <tr style=\"text-align: right;\">\n",
       "      <th></th>\n",
       "      <th>ID</th>\n",
       "      <th>Date</th>\n",
       "      <th>LicenseNo</th>\n",
       "      <th>FacilityID</th>\n",
       "      <th>FacilityName</th>\n",
       "      <th>Type</th>\n",
       "      <th>Street</th>\n",
       "      <th>City</th>\n",
       "      <th>State</th>\n",
       "      <th>LocationID</th>\n",
       "      <th>Reason</th>\n",
       "      <th>SectionViolations</th>\n",
       "      <th>RiskLevel</th>\n",
       "      <th>Geo_Loc</th>\n",
       "      <th>Inspection_Results</th>\n",
       "    </tr>\n",
       "  </thead>\n",
       "  <tbody>\n",
       "    <tr>\n",
       "      <th>0</th>\n",
       "      <td>31103489027986</td>\n",
       "      <td>26-04-2010</td>\n",
       "      <td>4744</td>\n",
       "      <td>8123</td>\n",
       "      <td>7715</td>\n",
       "      <td>RESTAURANT</td>\n",
       "      <td>15522</td>\n",
       "      <td>id-11235901</td>\n",
       "      <td>id_1890134</td>\n",
       "      <td>81876.0</td>\n",
       "      <td>CANVASS</td>\n",
       "      <td>33.0</td>\n",
       "      <td>High</td>\n",
       "      <td>locid16406</td>\n",
       "      <td>4</td>\n",
       "    </tr>\n",
       "    <tr>\n",
       "      <th>1</th>\n",
       "      <td>10088999935915</td>\n",
       "      <td>21-06-2009</td>\n",
       "      <td>2973</td>\n",
       "      <td>12268</td>\n",
       "      <td>11664</td>\n",
       "      <td>GROCERY STORE</td>\n",
       "      <td>3057</td>\n",
       "      <td>id-11235901</td>\n",
       "      <td>id_1890134</td>\n",
       "      <td>81862.0</td>\n",
       "      <td>COMPLAINT</td>\n",
       "      <td>33.0</td>\n",
       "      <td>High</td>\n",
       "      <td>locid878</td>\n",
       "      <td>4</td>\n",
       "    </tr>\n",
       "    <tr>\n",
       "      <th>2</th>\n",
       "      <td>40148966010272</td>\n",
       "      <td>01-05-2013</td>\n",
       "      <td>18223</td>\n",
       "      <td>1112</td>\n",
       "      <td>969</td>\n",
       "      <td>RESTAURANT</td>\n",
       "      <td>14988</td>\n",
       "      <td>id-11235901</td>\n",
       "      <td>id_1890134</td>\n",
       "      <td>81883.0</td>\n",
       "      <td>CANVASS</td>\n",
       "      <td>NaN</td>\n",
       "      <td>High</td>\n",
       "      <td>locid3368</td>\n",
       "      <td>6</td>\n",
       "    </tr>\n",
       "  </tbody>\n",
       "</table>\n",
       "</div>"
      ],
      "text/plain": [
       "               ID        Date  LicenseNo  FacilityID  FacilityName  \\\n",
       "0  31103489027986  26-04-2010       4744        8123          7715   \n",
       "1  10088999935915  21-06-2009       2973       12268         11664   \n",
       "2  40148966010272  01-05-2013      18223        1112           969   \n",
       "\n",
       "            Type  Street         City       State  LocationID     Reason  \\\n",
       "0     RESTAURANT   15522  id-11235901  id_1890134     81876.0    CANVASS   \n",
       "1  GROCERY STORE    3057  id-11235901  id_1890134     81862.0  COMPLAINT   \n",
       "2     RESTAURANT   14988  id-11235901  id_1890134     81883.0    CANVASS   \n",
       "\n",
       "   SectionViolations RiskLevel     Geo_Loc  Inspection_Results  \n",
       "0               33.0      High  locid16406                   4  \n",
       "1               33.0      High    locid878                   4  \n",
       "2                NaN      High   locid3368                   6  "
      ]
     },
     "execution_count": 66,
     "metadata": {},
     "output_type": "execute_result"
    }
   ],
   "source": [
    "print(\"Test Dataset Shape :\", test.shape)\n",
    "train.head(3)"
   ]
  },
  {
   "cell_type": "code",
   "execution_count": 9,
   "metadata": {},
   "outputs": [
    {
     "name": "stderr",
     "output_type": "stream",
     "text": [
      "C:\\ProgramData\\Anaconda3\\lib\\site-packages\\ipykernel_launcher.py:2: FutureWarning: Sorting because non-concatenation axis is not aligned. A future version\n",
      "of pandas will change to not sort by default.\n",
      "\n",
      "To accept the future behavior, pass 'sort=False'.\n",
      "\n",
      "To retain the current behavior and silence the warning, pass 'sort=True'.\n",
      "\n",
      "  \n"
     ]
    }
   ],
   "source": [
    "ID_COL, TARGET_COL = 'ID', 'Inspection_Results'\n",
    "df = pd.concat([train, test]).reset_index(drop=True)"
   ]
  },
  {
   "cell_type": "code",
   "execution_count": 10,
   "metadata": {},
   "outputs": [
    {
     "data": {
      "text/plain": [
       "((147443, 15), (49148, 14))"
      ]
     },
     "execution_count": 10,
     "metadata": {},
     "output_type": "execute_result"
    }
   ],
   "source": [
    "train.shape, test.shape"
   ]
  },
  {
   "cell_type": "code",
   "execution_count": 11,
   "metadata": {},
   "outputs": [
    {
     "data": {
      "text/plain": [
       "4    79453\n",
       "1    28456\n",
       "5    20631\n",
       "6    12691\n",
       "3     4747\n",
       "2     1420\n",
       "0       45\n",
       "Name: Inspection_Results, dtype: int64"
      ]
     },
     "execution_count": 11,
     "metadata": {},
     "output_type": "execute_result"
    }
   ],
   "source": [
    "train.Inspection_Results.value_counts()"
   ]
  },
  {
   "cell_type": "code",
   "execution_count": 12,
   "metadata": {},
   "outputs": [
    {
     "data": {
      "text/plain": [
       "id_1890134    147402\n",
       "id_1890135        41\n",
       "Name: State, dtype: int64"
      ]
     },
     "execution_count": 12,
     "metadata": {},
     "output_type": "execute_result"
    }
   ],
   "source": [
    "train.State.value_counts()"
   ]
  },
  {
   "cell_type": "code",
   "execution_count": 13,
   "metadata": {},
   "outputs": [
    {
     "data": {
      "text/plain": [
       "(0, 0)"
      ]
     },
     "execution_count": 13,
     "metadata": {},
     "output_type": "execute_result"
    }
   ],
   "source": [
    "train.duplicated().sum(), test.duplicated().sum()"
   ]
  },
  {
   "cell_type": "code",
   "execution_count": 14,
   "metadata": {},
   "outputs": [
    {
     "name": "stdout",
     "output_type": "stream",
     "text": [
      "<class 'pandas.core.frame.DataFrame'>\n",
      "RangeIndex: 147443 entries, 0 to 147442\n",
      "Data columns (total 15 columns):\n",
      "ID                    147443 non-null int64\n",
      "Date                  147443 non-null object\n",
      "LicenseNo             147443 non-null int64\n",
      "FacilityID            147443 non-null int64\n",
      "FacilityName          147443 non-null int64\n",
      "Type                  143958 non-null object\n",
      "Street                147443 non-null int64\n",
      "City                  147443 non-null object\n",
      "State                 147443 non-null object\n",
      "LocationID            147408 non-null float64\n",
      "Reason                147443 non-null object\n",
      "SectionViolations     108375 non-null float64\n",
      "RiskLevel             147443 non-null object\n",
      "Geo_Loc               147443 non-null object\n",
      "Inspection_Results    147443 non-null int64\n",
      "dtypes: float64(2), int64(6), object(7)\n",
      "memory usage: 16.9+ MB\n"
     ]
    }
   ],
   "source": [
    "train.info()"
   ]
  },
  {
   "cell_type": "markdown",
   "metadata": {},
   "source": [
    "# checking null values"
   ]
  },
  {
   "cell_type": "code",
   "execution_count": 15,
   "metadata": {},
   "outputs": [
    {
     "data": {
      "text/plain": [
       "ID                        0\n",
       "Date                      0\n",
       "LicenseNo                 0\n",
       "FacilityID                0\n",
       "FacilityName              0\n",
       "Type                   3485\n",
       "Street                    0\n",
       "City                      0\n",
       "State                     0\n",
       "LocationID               35\n",
       "Reason                    0\n",
       "SectionViolations     39068\n",
       "RiskLevel                 0\n",
       "Geo_Loc                   0\n",
       "Inspection_Results        0\n",
       "dtype: int64"
      ]
     },
     "execution_count": 15,
     "metadata": {},
     "output_type": "execute_result"
    }
   ],
   "source": [
    "train.isnull().sum()"
   ]
  },
  {
   "cell_type": "code",
   "execution_count": 16,
   "metadata": {},
   "outputs": [
    {
     "data": {
      "text/plain": [
       "ID                       0\n",
       "Date                     0\n",
       "LicenseNo                0\n",
       "FacilityID               0\n",
       "FacilityName             0\n",
       "Type                  1215\n",
       "Street                   0\n",
       "City                     0\n",
       "State                    0\n",
       "LocationID              15\n",
       "Reason                   0\n",
       "SectionViolations    12976\n",
       "RiskLevel                0\n",
       "Geo_Loc                  0\n",
       "dtype: int64"
      ]
     },
     "execution_count": 16,
     "metadata": {},
     "output_type": "execute_result"
    }
   ],
   "source": [
    "test.isnull().sum()"
   ]
  },
  {
   "cell_type": "code",
   "execution_count": 17,
   "metadata": {},
   "outputs": [
    {
     "name": "stdout",
     "output_type": "stream",
     "text": [
      "Number of unique Reason:-- ['CANVASS' 'COMPLAINT' 'CANVASS RE-INSPECTION' 'LICENSE'\n",
      " 'LICENSE RE-INSPECTION' 'SUSPECTED FOOD POISONING' 'LICENSE-TASK FORCE'\n",
      " 'TAG REMOVAL' 'COMPLAINT RE-INSPECTION' 'CONSULTATION'\n",
      " 'RECENT INSPECTION' 'SHORT FORM COMPLAINT'\n",
      " 'SUSPECTED FOOD POISONING RE-INSPECTION' 'COMPLAINT-FIRE'\n",
      " 'OUT OF BUSINESS' 'TASK FORCE LIQUOR 1475' 'SHORT FORM FIRE-COMPLAINT']\n"
     ]
    }
   ],
   "source": [
    "print('Number of unique Reason:--', train.Reason.unique())"
   ]
  },
  {
   "cell_type": "code",
   "execution_count": 18,
   "metadata": {},
   "outputs": [
    {
     "name": "stdout",
     "output_type": "stream",
     "text": [
      "Number of unique Type:-- ['RESTAURANT' 'GROCERY STORE' \"CHILDREN'S SERVICES FACILITY\" 'GAS STATION'\n",
      " 'SCHOOL' 'PALETERIA' 'DAYCARE ABOVE AND UNDER 2 YEARS' 'MEAT PACKING'\n",
      " 'LONG TERM CARE' nan 'LIQUOR' 'DAYCARE (2 - 6 YEARS)'\n",
      " 'COMMISSARY FOR SOFT SERVE ICE CREAM TRUCKS' 'CONVENIENCE STORE'\n",
      " 'DAYCARE (UNDER 2 YEARS)' 'SHARED KITCHEN USER (LONG TERM)'\n",
      " 'GOLDEN DINER' 'BAKERY' 'WRIGLEY ROOFTOP' 'DAYCARE COMBO 1586'\n",
      " 'DAYCARE NIGHT' 'MOBILE FOOD PREPARER' 'POPCORN SHOP' 'TAVERN' 'HOSPITAL'\n",
      " 'CATERING' 'PRIVATE SCHOOL' 'SHELTER' 'TAVERN GRILL'\n",
      " 'MOBILE FOOD DISPENSER' 'MOBILE DESSERTS VENDOR' 'WHOLESALE'\n",
      " 'SPECIAL EVENT' 'GAS STATION/RESTAURANT' 'SENIOR DAY CARE' 'DAYCARE'\n",
      " 'BANQUET' 'BANQUET HALL' 'ROOFTOPS' 'SHARED KITCHEN' 'LIVE POULTRY'\n",
      " 'BAR/GRILL' 'DAYCARE 2 YRS TO 12 YRS' 'RESTAURANT(PROTEIN SHAKE BAR)'\n",
      " 'COFFEE SHOP' 'MOBILE PREPARED FOOD VENDOR'\n",
      " \"1023 CHILDERN'S SERVICE FACILITY\" 'KIOSK'\n",
      " 'SHARED KITCHEN USER (SHORT TERM)' 'THEATER' 'CAFETERIA' 'BREWPUB'\n",
      " 'NURSING HOME' 'CHURCH' 'GAS STATION /GROCERY' 'COOKING SCHOOL'\n",
      " 'WRIGLEY ROOF TOP' '1023' 'CHARTER SCHOOL'\n",
      " 'SHARED KITCHEN USER (LONG TREM)' 'SHUFFLEBOARD CLUB WITH BAR'\n",
      " 'ICE CREAM PARLOR' 'SUMMER FEEDING' \"CHILDERN'S SERVICE FACILITY\"\n",
      " 'RESTAURANT/BAKERY' \"1023 CHILDERN'S SERVICES FACILITY\"\n",
      " \"1023-CHILDREN'S SERVICES FACILITY\" 'MOBILE FROZEN DESSERTS VENDOR'\n",
      " 'MOVIE THEATER' 'GROCERY/GAS STATION' 'CONVENIENCE' 'ROOFTOP'\n",
      " \"1023 CHILDERN'S SERVICE S FACILITY\" 'RESTAURANT/GROCERY STORE'\n",
      " 'POULTRY SLAUGHTER' 'RESTAURANT/BAR' 'NAVY PIER KIOSK' 'STADIUM'\n",
      " 'GROCERY& RESTAURANT' 'GROCERY/RESTAURANT'\n",
      " 'BEFORE AND AFTER SCHOOL PROGRAM' 'FITNESS CENTER' 'ROOF TOPS'\n",
      " 'UNIVERSITY CAFETERIA' 'PREP INSIDE SCHOOL' 'PUSHCART'\n",
      " 'A-NOT-FOR-PROFIT CHEF TRAINING PROGRAM' 'MOBILE FOOD TRUCK'\n",
      " 'GROCERY(SUSHI PREP)' 'ASSISTED LIVING' 'LIQUORE STORE/BAR'\n",
      " 'CULINARY SCHOOL' 'CONVENIENT STORE' 'GROCERY STORE/BAKERY'\n",
      " 'MOVIE THEATRE' 'GROCERY & RESTAURANT' 'HOT DOG STATION' 'DAY CARE 2-14'\n",
      " 'ROOF TOP' 'JUICE AND SALAD BAR' 'NOT-FOR-PROFIT CLUB'\n",
      " 'GROCERY/ RESTAURANT' 'HERBAL MEDICINE' 'NORTHERLY ISLAND' 'BAKERY/DELI'\n",
      " 'CANDY STORE' 'POP-UP ESTABLISHMENT HOST-TIER II' 'GROCERY AND BUTCHER'\n",
      " 'HOOKA LOUNGE' 'GROCERY STORE/GAS STATION' 'RESTAURANT.BANQUET HALLS'\n",
      " 'HEALTH/ JUICE BAR' 'GROCERY/SERVICE GAS STATION' 'TRUCK'\n",
      " 'WEIGHT LOSS PROGRAM' 'MUSIC VENUE' 'COFFEE  SHOP' 'REST/GROCERY'\n",
      " 'SUSHI COUNTER' 'CELL PHONE STORE' 'BAR' 'CANDY/GELATO' 'SOCIAL CLUB'\n",
      " 'MOBILE FOOD' 'DAYCARE (2 YEARS)' 'HOTEL' 'PUBLIC SHCOOL'\n",
      " 'RIVERWALK CAFE' 'BANQUET ROOMS' 'HERBALIFE' 'NOT FOR PROFIT'\n",
      " 'LONG-TERM CARE FACILITY' 'WAREHOUSE' 'COLLEGE' 'THEATER & RESTAURANT'\n",
      " 'DOLLAR STORE' 'SUPPORTIVE LIVING' 'GAS' 'REST/GYM' 'DRUG STORE'\n",
      " 'ROOM SERVICE' 'ART GALLERY W/WINE AND BEER'\n",
      " 'CHILDRENS SERVICES FACILITY' 'CHARTER SCHOOL/CAFETERIA' 'ICE CREAM SHOP'\n",
      " 'CHINESE HERBS' 'RIVERWALK' 'BANQUET DINING' 'NUTRITION/HERBALIFE'\n",
      " 'GOLF COURSE' 'CULINARY ARTS SCHOOL' 'EMPLOYEE KITCHEN' 'CHURCH KITCHEN'\n",
      " 'PRE PACKAGED' '1475 LIQUOR' 'OTHER' 'COMMISSARY' 'BANQUET/KITCHEN'\n",
      " 'REGULATED BUSINESS' 'DAYCARE 2-6, UNDER 6'\n",
      " 'MOBILE FROZEN DESSERT VENDOR' 'LINITED BUSINESS' 'EVENT SPACE'\n",
      " 'LOUNGE/BANQUET HALL' 'GAS STATION/STORE'\n",
      " 'LIQUOR CONSUMPTION ON PREMISES.' 'LIQOUR BREWERY TASTING'\n",
      " '1005 NURSING HOME' 'DAYCARE COMBO' \"CHILDERN'S SERVICES  FACILITY\"\n",
      " 'COFFEE CART' 'LONG TERM CARE FACILITY' 'BANQUET FACILITY'\n",
      " 'DAY CARE 1023' 'BOOK STORE' 'FOOD BOOTH' 'GAS STATION/MINI MART'\n",
      " 'GROCERY/TAVERN' 'ASSISTED LIVING SENIOR CARE' 'STORE'\n",
      " 'ALTERNATIVE SCHOOL' 'DOLLAR TREE' 'TEA BREWING' 'GROCERY/CAFE' 'HOSTEL'\n",
      " 'CITY OF CHICAGO COLLEGE' 'MFD TRUCK' 'GYM STORE' 'HOT DOG CART'\n",
      " 'RESTAURANT/HOSPITAL' 'RESTUARANT AND BAR' 'SCHOOL CAFETERIA'\n",
      " \"O'HARE KIOSK\" 'AIRPORT LOUNGE' 'GROCERY STORE/COOKING SCHOOL'\n",
      " 'CHURCH (SPECIAL EVENTS)' 'WINE STORE' 'RESTAURANT/GAS STATION'\n",
      " 'BANQUET HALL/CATERING' 'CHARITY AID KITCHEN' 'BUTCHER SHOP'\n",
      " 'FOOD VENDING MACHINES' 'CHURCH/SPECIAL EVENTS'\n",
      " 'BEVERAGE/SILVERWARE WAREHOUSE' 'BAKERY/RESTAURANT' 'DRUG/FOOD STORE'\n",
      " 'GYM' 'MOBILPREPARED FOOD VENDOR' 'GROCERY STORE/TAQUERIA' 'SOUP KITCHEN'\n",
      " 'PHARMACY/GROCERY' 'ADULT DAYCARE' 'WATERMELON HOUSE' 'DINING HALL'\n",
      " 'CAFE/STORE' 'SMOKEHOUSE' 'PASTRY SCHOOL' 'ICE CREAM'\n",
      " 'GROCERY(GAS STATION)' 'PRODUCE VENDOR' 'LOUNGE' 'RESTAURANT/GROCERY'\n",
      " 'WINE TASTING BAR' 'GAS STATION/FOOD' 'GROCERY' 'EVENT VENU' 'PHARMACY'\n",
      " 'BAKERY/ RESTAURANT' 'PANTRY' 'HERBAL LIFE' 'DONUT SHOP' 'CATERING/CAFE'\n",
      " 'TEACHING SCHOOL' 'HEALTH CARE STORE' 'YOUTH HOUSING'\n",
      " 'SUMMER FEEDING PREP AREA' 'NAIL SHOP' 'REST/ROOFTOP' 'SMOOTHIE BAR'\n",
      " 'GAS STATION/GROCERY' 'URBAN FARM' 'COFFEE KIOSK' 'CHURCH/DAY CARE'\n",
      " 'SUPPORTIVE LIVING FACILITY' 'GROCERY/DELI' 'COFFEE/TEA'\n",
      " 'SERVICE BAR/THEATRE' 'BANQUETS' 'HERABALIFE' 'TOBACCO STORE'\n",
      " 'SNACK SHOP' 'BANQUET ROOM' 'WHOLESALE BAKERY'\n",
      " 'GOLF COURSE CONNCESSION STAND' 'BREWERY' 'GROCERY/BUTCHER'\n",
      " 'TAVERN/RESTAURANT' 'GROCERY STORE/ RESTAURANT' 'TENT RSTAURANT'\n",
      " 'NEWSSTAND' 'GROCERY/BAKERY' 'VIDEO STORE' 'BOWLING LANES/BANQUETS'\n",
      " 'FISH MARKET' 'POOL' 'TEMPORARY KIOSK' 'CULINARY CLASS ROOMS' 'THEATRE'\n",
      " 'CAFE' 'HEALTH CENTER' '(GAS STATION)' 'RETAIL' 'PACKAGED LIQUOR'\n",
      " 'MOBILE FROZEN DESSERTS DISPENSER-NON-MOTORIZED'\n",
      " 'RETAIL FOOD/GAS STATION' 'CLOTHING STORE' 'GELATO SHOP'\n",
      " 'CHILDERN ACTIVITY FACILITY' 'CHARTER SCHOOL CAFETERIA'\n",
      " 'SLAUGHTER HOUSE/ GROCERY' 'HERBALCAL' 'GAS STATION/CONVENIENCE STORE'\n",
      " 'MOBIL FOOD 1315' 'AFTER SCHOOL PROGRAM' 'PUSH CARTS'\n",
      " 'DISTRIBUTION CENTER' 'HERBAL DRINKS' '15 MONTS TO 5 YEARS OLD'\n",
      " 'HIGH SCHOOL KITCHEN' 'CANDY SHOP' 'REPACKAGING PLANT'\n",
      " 'GAS STATION STORE' 'GAS STATION/ GROCERY STORE' 'JUICE BAR'\n",
      " 'GAS STATION /SUBWAY MINI MART.' 'COFFEE VENDING MACHINE'\n",
      " 'MEXICAN CANDY STORE' 'GROCERY STORE /PHARMACY' 'BAKERY/GROCERY'\n",
      " 'CONVNIENCE STORE' 'CHURCH/SPECIAL EVENT' 'DRUG TREATMENT FACILITY'\n",
      " 'CATERED EVENTS' 'HERBAL' 'COMMISARY RESTAURANT' 'DISTRIBUTOR'\n",
      " 'NUTRITION STORE' 'REHAB CENTER' 'TEA STORE' 'VFW HALL'\n",
      " 'FRENCH MARKET SPACE' 'MOBILE FROZEN DESSERT DISP/NON-MOTORIZED'\n",
      " 'GROCERY/DOLLAR STORE' 'GROCERY/TAQUERIA' 'FROZEN DESSERT PUSHCARTS'\n",
      " 'EXERCISE AND NUTRITION BAR' 'DAY CARE' 'DRUG STORE/GROCERY'\n",
      " 'MOBILE FROZEN DESSERT DISPENSER_NON  MOTORIZED.'\n",
      " 'CUSTOM POULTRY SLAUGHTER' 'GAS STATION/STORE GROCERY'\n",
      " 'POP-UP FOOD ESTABLISHMENT USER-TIER III' 'WHOLESALE & RETAIL'\n",
      " 'CONVENIENCE/GAS STATION' 'HERBALIFE STORE'\n",
      " \"1023 CHILDREN'S SERVICES FACILITY\" 'RETAIL WINE/WINE BAR'\n",
      " 'GROCERY STORE / GAS STATION' 'DAYCARE 6 WKS-5YRS' 'CAT/LIQUOR'\n",
      " 'HERBAL LIFE SHOP' 'CANDY' 'COLD/FROZEN FOOD STORAGE' 'NIGHT CLUB'\n",
      " 'GROCERY/DRUG STORE' 'LIQUOR STORE' 'HERBAL REMEDY' 'VENDING COMMISSARY'\n",
      " 'CAR WASH' 'COFFEE ROASTER' 'KITCHEN DEMO' 'CATERED LIQUOR'\n",
      " 'CHURCH/AFTER SCHOOL PROGRAM' 'LONG-TERM CARE' 'ASSISSTED LIVING'\n",
      " 'LIVE BUTCHER' 'RESTAURANT AND LIQUOR' 'CATERING AND WHOLESALE'\n",
      " 'ROOFTOP PATIO' 'DRUG/GROCERY STORE' 'DAY SPA' 'HELICOPTER TERMINAL'\n",
      " 'PALETERIA /ICECREAM SHOP' 'FITNESS STUDIO' 'DOLLAR & GROCERY STORE'\n",
      " 'DAY CARE COMBO (1586)' 'BANQUETS/ROOM SERVICE'\n",
      " '1584-DAY CARE ABOVE 2 YEARS' 'FOOD PANTRY' 'BOYS AND GIRLS CLUB' 'DELI'\n",
      " 'COMMIASARY' 'TAVERN-LIQUOR' 'ANIMAL SHELTER CAFE PERMIT' 'DAYCARE 1586'\n",
      " 'NON -PROFIT' 'LIQUOR/COFFEE KIOSK'\n",
      " 'FROZEN DESSERTS DISPENSER-NON-MOTORIZED' 'MUSEUM/GALLERY'\n",
      " 'MOBILE FOOD DESSERTS VENDOR' 'TAVERN/STORE' 'CANDY MAKER'\n",
      " 'UNUSED STORAGE' 'ADULT FAMILY CARE CENTER' 'MOBILE DESSERT CART'\n",
      " 'LAUNDROMAT' 'POP-UP FOOD ESTABLISHMENT USER-TIER II' 'ART GALLERY'\n",
      " 'PACKAGED FOOD DISTRIBUTION' 'RELIGIOUS' 'NON-FOR PROFIT BASEMENT KIT'\n",
      " 'FURNITURE STORE' 'FROZEN DESSERTS DISPENSER -NON MOTORIZED'\n",
      " 'PRODUCE STAND' 'CONVENIENCE/DRUG STORE' 'DELI/GROCERY STORE'\n",
      " 'DRUG STORE/W/ FOOD' 'DELI/BAKERY' 'DOLLAR STORE SELLING GROCERY'\n",
      " 'GENERAL STORE' '(CONVENIENCE STORE)' 'RETAIL STORE' 'HERBALIFE/ZUMBA'\n",
      " 'RETAIL STORE OFFERS COOKING CLASSES' 'ASSISTED LIVING FACILITY'\n",
      " 'RESTAURANT/LIQUOR' 'POPCORN CORN' 'HERBALIFE NUTRITION'\n",
      " 'BLOCKBUSTER VIDEO' 'TAP ROOM/TAVERN/LIQUOR STORE' 'MASSAGE BAR'\n",
      " 'INCUBATOR' 'JUICE BAR/GROCERY' 'HAIR SALON' 'COFFEE'\n",
      " 'GROCERY STORE/DELI' 'THEATER/BAR' 'PEDDLER' 'PACKAGED HEALTH FOODS'\n",
      " 'AFTER SCHOOL CARE']\n"
     ]
    }
   ],
   "source": [
    "print('Number of unique Type:--', train.Type.unique())"
   ]
  },
  {
   "cell_type": "code",
   "execution_count": 19,
   "metadata": {},
   "outputs": [
    {
     "name": "stdout",
     "output_type": "stream",
     "text": [
      "Number of unique FacilityID:-- [ 8123 12268  1112 ...  9450 11565 19326]\n"
     ]
    }
   ],
   "source": [
    "print('Number of unique FacilityID:--', train.FacilityID.unique())"
   ]
  },
  {
   "cell_type": "code",
   "execution_count": 15,
   "metadata": {},
   "outputs": [
    {
     "data": {
      "text/plain": [
       "ID                   49148\n",
       "Date                  2454\n",
       "LicenseNo            22525\n",
       "FacilityID           18104\n",
       "FacilityName         17326\n",
       "Type                   301\n",
       "Street               14164\n",
       "City                     2\n",
       "State                    2\n",
       "LocationID              86\n",
       "Reason                  17\n",
       "SectionViolations       61\n",
       "RiskLevel                4\n",
       "Geo_Loc              13645\n",
       "dtype: int64"
      ]
     },
     "execution_count": 15,
     "metadata": {},
     "output_type": "execute_result"
    }
   ],
   "source": [
    "test.nunique()"
   ]
  },
  {
   "cell_type": "code",
   "execution_count": 16,
   "metadata": {},
   "outputs": [
    {
     "data": {
      "text/plain": [
       "ID                        0\n",
       "Date                      0\n",
       "LicenseNo                 0\n",
       "FacilityID                0\n",
       "FacilityName              0\n",
       "Type                   3485\n",
       "Street                    0\n",
       "City                      0\n",
       "State                     0\n",
       "LocationID               35\n",
       "Reason                    0\n",
       "SectionViolations     39068\n",
       "RiskLevel                 0\n",
       "Geo_Loc                   0\n",
       "Inspection_Results        0\n",
       "dtype: int64"
      ]
     },
     "execution_count": 16,
     "metadata": {},
     "output_type": "execute_result"
    }
   ],
   "source": [
    "train.isnull().sum()\n"
   ]
  },
  {
   "cell_type": "markdown",
   "metadata": {},
   "source": [
    "# Heatmap to visualize Null values"
   ]
  },
  {
   "cell_type": "code",
   "execution_count": 17,
   "metadata": {},
   "outputs": [
    {
     "data": {
      "text/plain": [
       "<matplotlib.axes._subplots.AxesSubplot at 0x1ff7aa73240>"
      ]
     },
     "execution_count": 17,
     "metadata": {},
     "output_type": "execute_result"
    },
    {
     "data": {
      "image/png": "[encoded data removed]",
      "text/plain": [
       "<Figure size 432x288 with 2 Axes>"
      ]
     },
     "metadata": {
      "needs_background": "light"
     },
     "output_type": "display_data"
    }
   ],
   "source": [
    "sns.heatmap(train.isnull())  ## Null values are present in 'Type' and 'SectionViolations' column"
   ]
  },
  {
   "cell_type": "markdown",
   "metadata": {},
   "source": [
    "# Histogram of Inspection_Results"
   ]
  },
  {
   "cell_type": "code",
   "execution_count": 18,
   "metadata": {
    "scrolled": true
   },
   "outputs": [
    {
     "data": {
      "text/plain": [
       "(array([4.5000e+01, 2.8456e+04, 0.0000e+00, 1.4200e+03, 0.0000e+00,\n",
       "        4.7470e+03, 7.9453e+04, 0.0000e+00, 2.0631e+04, 1.2691e+04]),\n",
       " array([0. , 0.6, 1.2, 1.8, 2.4, 3. , 3.6, 4.2, 4.8, 5.4, 6. ]),\n",
       " <a list of 10 Patch objects>)"
      ]
     },
     "execution_count": 18,
     "metadata": {},
     "output_type": "execute_result"
    },
    {
     "data": {
      "image/png": "[encoded data removed]",
      "text/plain": [
       "<Figure size 432x288 with 1 Axes>"
      ]
     },
     "metadata": {
      "needs_background": "light"
     },
     "output_type": "display_data"
    }
   ],
   "source": [
    "plt.hist(train['Inspection_Results'])"
   ]
  },
  {
   "cell_type": "markdown",
   "metadata": {},
   "source": [
    "there is no pattern found in Inspection_Results"
   ]
  },
  {
   "cell_type": "markdown",
   "metadata": {},
   "source": [
    "\n",
    "# Distplot "
   ]
  },
  {
   "cell_type": "code",
   "execution_count": 19,
   "metadata": {},
   "outputs": [
    {
     "data": {
      "text/plain": [
       "<matplotlib.axes._subplots.AxesSubplot at 0x1ff7a4322e8>"
      ]
     },
     "execution_count": 19,
     "metadata": {},
     "output_type": "execute_result"
    },
    {
     "data": {
      "image/png": "[encoded data removed]",
      "text/plain": [
       "<Figure size 432x288 with 1 Axes>"
      ]
     },
     "metadata": {
      "needs_background": "light"
     },
     "output_type": "display_data"
    }
   ],
   "source": [
    "import seaborn as sb\n",
    "sb.distplot(train['Inspection_Results'])"
   ]
  },
  {
   "cell_type": "code",
   "execution_count": 20,
   "metadata": {},
   "outputs": [
    {
     "data": {
      "text/plain": [
       "Index(['ID', 'Date', 'LicenseNo', 'FacilityID', 'FacilityName', 'Type',\n",
       "       'Street', 'City', 'State', 'LocationID', 'Reason', 'SectionViolations',\n",
       "       'RiskLevel', 'Geo_Loc', 'Inspection_Results'],\n",
       "      dtype='object')"
      ]
     },
     "execution_count": 20,
     "metadata": {},
     "output_type": "execute_result"
    }
   ],
   "source": [
    "train.columns"
   ]
  },
  {
   "cell_type": "code",
   "execution_count": 21,
   "metadata": {},
   "outputs": [
    {
     "data": {
      "text/plain": [
       "<matplotlib.axes._subplots.AxesSubplot at 0x1ff79b1ec18>"
      ]
     },
     "execution_count": 21,
     "metadata": {},
     "output_type": "execute_result"
    },
    {
     "data": {
      "image/png": "[encoded data removed]",
      "text/plain": [
       "<Figure size 576x504 with 1 Axes>"
      ]
     },
     "metadata": {
      "needs_background": "light"
     },
     "output_type": "display_data"
    }
   ],
   "source": [
    "import seaborn as sns\n",
    "plt.figure(figsize=(8,7))\n",
    "import matplotlib.pyplot as plt\n",
    "from matplotlib.pyplot import figure\n",
    "count = train[\"Reason\"].value_counts()\n",
    "train['Reason'].value_counts().plot('bar')\n"
   ]
  },
  {
   "cell_type": "code",
   "execution_count": 22,
   "metadata": {},
   "outputs": [
    {
     "data": {
      "text/plain": [
       "<matplotlib.axes._subplots.AxesSubplot at 0x1ff7b0243c8>"
      ]
     },
     "execution_count": 22,
     "metadata": {},
     "output_type": "execute_result"
    },
    {
     "data": {
      "image/png": "[encoded data removed]",
      "text/plain": [
       "<Figure size 576x504 with 1 Axes>"
      ]
     },
     "metadata": {
      "needs_background": "light"
     },
     "output_type": "display_data"
    }
   ],
   "source": [
    "plt.figure(figsize=(8,7))\n",
    "import seaborn as sns\n",
    "sns.countplot(train['RiskLevel'])"
   ]
  },
  {
   "cell_type": "code",
   "execution_count": 23,
   "metadata": {},
   "outputs": [
    {
     "data": {
      "text/plain": [
       "array(['High', 'Medium', 'Low', 'Uncertain'], dtype=object)"
      ]
     },
     "execution_count": 23,
     "metadata": {},
     "output_type": "execute_result"
    }
   ],
   "source": [
    "train.RiskLevel.unique()"
   ]
  },
  {
   "cell_type": "markdown",
   "metadata": {},
   "source": [
    "# Pie plot of column 'Risklevel'"
   ]
  },
  {
   "cell_type": "code",
   "execution_count": 24,
   "metadata": {
    "scrolled": true
   },
   "outputs": [
    {
     "data": {
      "image/png": "[encoded data removed]",
      "text/plain": [
       "<Figure size 432x288 with 1 Axes>"
      ]
     },
     "metadata": {},
     "output_type": "display_data"
    }
   ],
   "source": [
    "\n",
    "plt.pie(train.RiskLevel.value_counts(), labels=['High', 'Medium', 'Low', 'Uncertain'], autopct='%1.1f%%')\n",
    "plt.show()"
   ]
  },
  {
   "cell_type": "code",
   "execution_count": 25,
   "metadata": {},
   "outputs": [
    {
     "data": {
      "text/plain": [
       "array(['CANVASS', 'COMPLAINT', 'CANVASS RE-INSPECTION', 'LICENSE',\n",
       "       'LICENSE RE-INSPECTION', 'SUSPECTED FOOD POISONING',\n",
       "       'LICENSE-TASK FORCE', 'TAG REMOVAL', 'COMPLAINT RE-INSPECTION',\n",
       "       'CONSULTATION', 'RECENT INSPECTION', 'SHORT FORM COMPLAINT',\n",
       "       'SUSPECTED FOOD POISONING RE-INSPECTION', 'COMPLAINT-FIRE',\n",
       "       'OUT OF BUSINESS', 'TASK FORCE LIQUOR 1475',\n",
       "       'SHORT FORM FIRE-COMPLAINT'], dtype=object)"
      ]
     },
     "execution_count": 25,
     "metadata": {},
     "output_type": "execute_result"
    }
   ],
   "source": [
    "train.Reason.unique()"
   ]
  },
  {
   "cell_type": "markdown",
   "metadata": {},
   "source": [
    "# Pie plot of column 'Reason'"
   ]
  },
  {
   "cell_type": "code",
   "execution_count": 26,
   "metadata": {},
   "outputs": [
    {
     "data": {
      "image/png": "[encoded data removed]",
      "text/plain": [
       "<Figure size 432x288 with 1 Axes>"
      ]
     },
     "metadata": {},
     "output_type": "display_data"
    }
   ],
   "source": [
    "plt.pie(train.Reason.value_counts(), labels=['CANVASS', 'COMPLAINT', 'CANVASS RE-INSPECTION', 'LICENSE',\n",
    "       'LICENSE RE-INSPECTION', 'SUSPECTED FOOD POISONING',\n",
    "       'LICENSE-TASK FORCE', 'TAG REMOVAL', 'COMPLAINT RE-INSPECTION',\n",
    "       'CONSULTATION', 'RECENT INSPECTION', 'SHORT FORM COMPLAINT',\n",
    "       'SUSPECTED FOOD POISONING RE-INSPECTION', 'COMPLAINT-FIRE',\n",
    "       'OUT OF BUSINESS', 'TASK FORCE LIQUOR 1475',\n",
    "       'SHORT FORM FIRE-COMPLAINT'], autopct='%1.1f%%')\n",
    "plt.show()"
   ]
  },
  {
   "cell_type": "markdown",
   "metadata": {},
   "source": [
    "# Inspection Result v/s State"
   ]
  },
  {
   "cell_type": "code",
   "execution_count": 27,
   "metadata": {
    "scrolled": true
   },
   "outputs": [
    {
     "data": {
      "text/plain": [
       "<matplotlib.axes._subplots.AxesSubplot at 0x1ff79f57908>"
      ]
     },
     "execution_count": 27,
     "metadata": {},
     "output_type": "execute_result"
    },
    {
     "data": {
      "image/png": "[encoded data removed]",
      "text/plain": [
       "<Figure size 432x360 with 1 Axes>"
      ]
     },
     "metadata": {
      "needs_background": "light"
     },
     "output_type": "display_data"
    }
   ],
   "source": [
    "import seaborn as sb\n",
    "plt.figure(figsize=(6,5))\n",
    "y=pd.DataFrame(train.groupby(['State'])['Inspection_Results'].mean()).reset_index()\n",
    "sb.barplot(y['State'],y['Inspection_Results'])"
   ]
  },
  {
   "cell_type": "markdown",
   "metadata": {},
   "source": [
    "# Inspection Result v/s City"
   ]
  },
  {
   "cell_type": "code",
   "execution_count": 28,
   "metadata": {},
   "outputs": [
    {
     "data": {
      "text/plain": [
       "<matplotlib.axes._subplots.AxesSubplot at 0x1ff7cd32e80>"
      ]
     },
     "execution_count": 28,
     "metadata": {},
     "output_type": "execute_result"
    },
    {
     "data": {
      "image/png": "[encoded data removed]",
      "text/plain": [
       "<Figure size 432x360 with 1 Axes>"
      ]
     },
     "metadata": {
      "needs_background": "light"
     },
     "output_type": "display_data"
    }
   ],
   "source": [
    "import seaborn as sb\n",
    "plt.figure(figsize=(6,5))\n",
    "y=pd.DataFrame(train.groupby(['City'])['Inspection_Results'].sum()).reset_index()\n",
    "sb.barplot(y['City'],y['Inspection_Results'])"
   ]
  },
  {
   "cell_type": "markdown",
   "metadata": {},
   "source": [
    "# Inspection Result v/s SectionViolations"
   ]
  },
  {
   "cell_type": "code",
   "execution_count": 29,
   "metadata": {
    "scrolled": true
   },
   "outputs": [
    {
     "data": {
      "text/plain": [
       "<matplotlib.axes._subplots.AxesSubplot at 0x1ff7cd32fd0>"
      ]
     },
     "execution_count": 29,
     "metadata": {},
     "output_type": "execute_result"
    },
    {
     "data": {
      "image/png": "[encoded data removed]",
      "text/plain": [
       "<Figure size 576x360 with 1 Axes>"
      ]
     },
     "metadata": {
      "needs_background": "light"
     },
     "output_type": "display_data"
    }
   ],
   "source": [
    "import seaborn as sb\n",
    "plt.figure(figsize=(8,5))\n",
    "y=pd.DataFrame(train.groupby(['SectionViolations'])['Inspection_Results'].mean()).reset_index()\n",
    "sb.barplot(y['SectionViolations'],y['Inspection_Results'])"
   ]
  },
  {
   "cell_type": "markdown",
   "metadata": {},
   "source": [
    "# Inspection Result v/s RiskLevel"
   ]
  },
  {
   "cell_type": "code",
   "execution_count": 30,
   "metadata": {},
   "outputs": [
    {
     "data": {
      "text/plain": [
       "<matplotlib.axes._subplots.AxesSubplot at 0x1ff7bee9f28>"
      ]
     },
     "execution_count": 30,
     "metadata": {},
     "output_type": "execute_result"
    },
    {
     "data": {
      "image/png": "[encoded data removed]",
      "text/plain": [
       "<Figure size 576x360 with 1 Axes>"
      ]
     },
     "metadata": {
      "needs_background": "light"
     },
     "output_type": "display_data"
    }
   ],
   "source": [
    "plt.figure(figsize=(8,5))\n",
    "x=pd.DataFrame(train.groupby('RiskLevel')['Inspection_Results'].sum()).reset_index()\n",
    "sb.barplot(x['RiskLevel'],x['Inspection_Results'])"
   ]
  },
  {
   "cell_type": "markdown",
   "metadata": {},
   "source": [
    "# Boxplot to check outliars"
   ]
  },
  {
   "cell_type": "code",
   "execution_count": 67,
   "metadata": {},
   "outputs": [
    {
     "data": {
      "image/png": "[encoded data removed]",
      "text/plain": [
       "<Figure size 576x360 with 1 Axes>"
      ]
     },
     "metadata": {
      "needs_background": "light"
     },
     "output_type": "display_data"
    }
   ],
   "source": [
    "plt.figure(figsize=(8,5))\n",
    "boxplots = sns.boxplot( data=train,order=['FacilityName','LicenseNo','Inspection_Results','Street'])"
   ]
  },
  {
   "cell_type": "code",
   "execution_count": 32,
   "metadata": {},
   "outputs": [
    {
     "name": "stdout",
     "output_type": "stream",
     "text": [
      "count    147443.000000\n",
      "mean          3.680405\n",
      "std           1.481441\n",
      "min           0.000000\n",
      "25%           4.000000\n",
      "50%           4.000000\n",
      "75%           4.000000\n",
      "max           6.000000\n",
      "Name: Inspection_Results, dtype: float64\n",
      "Skewness: -0.730292\n",
      "Kurtosis: -0.296022\n"
     ]
    }
   ],
   "source": [
    "print(train['Inspection_Results'].describe())\n",
    "#skewness and kurtosis\n",
    "print(\"Skewness: %f\" % train['Inspection_Results'].skew())\n",
    "print(\"Kurtosis: %f\" % train['Inspection_Results'].kurt())"
   ]
  },
  {
   "cell_type": "markdown",
   "metadata": {},
   "source": [
    "# Count with respect to \"Inspection_Results\""
   ]
  },
  {
   "cell_type": "code",
   "execution_count": 33,
   "metadata": {},
   "outputs": [
    {
     "data": {
      "text/plain": [
       "<matplotlib.axes._subplots.AxesSubplot at 0x1ff7a368710>"
      ]
     },
     "execution_count": 33,
     "metadata": {},
     "output_type": "execute_result"
    },
    {
     "data": {
      "image/png": "[encoded data removed]",
      "text/plain": [
       "<Figure size 576x360 with 1 Axes>"
      ]
     },
     "metadata": {
      "needs_background": "light"
     },
     "output_type": "display_data"
    }
   ],
   "source": [
    "plt.figure(figsize=(8,5))\n",
    "import seaborn as sns\n",
    "sns.countplot(train['Inspection_Results'])"
   ]
  },
  {
   "cell_type": "markdown",
   "metadata": {},
   "source": [
    "# Scatter plot of Inspection Result v/s RiskLevel"
   ]
  },
  {
   "cell_type": "code",
   "execution_count": 34,
   "metadata": {
    "scrolled": false
   },
   "outputs": [
    {
     "data": {
      "text/plain": [
       "<matplotlib.axes._subplots.AxesSubplot at 0x1ff782cb400>"
      ]
     },
     "execution_count": 34,
     "metadata": {},
     "output_type": "execute_result"
    },
    {
     "data": {
      "image/png": "[encoded data removed]",
      "text/plain": [
       "<Figure size 432x288 with 1 Axes>"
      ]
     },
     "metadata": {
      "needs_background": "light"
     },
     "output_type": "display_data"
    }
   ],
   "source": [
    "import seaborn as sb\n",
    "sb.scatterplot(train['RiskLevel'],train['Inspection_Results'])"
   ]
  },
  {
   "cell_type": "markdown",
   "metadata": {},
   "source": [
    "# Scatter plot of Inspection Result v/s Type"
   ]
  },
  {
   "cell_type": "code",
   "execution_count": 35,
   "metadata": {},
   "outputs": [
    {
     "data": {
      "text/plain": [
       "<matplotlib.axes._subplots.AxesSubplot at 0x1ff7bb43ac8>"
      ]
     },
     "execution_count": 35,
     "metadata": {},
     "output_type": "execute_result"
    },
    {
     "data": {
      "image/png": "[encoded data removed]",
      "text/plain": [
       "<Figure size 432x288 with 1 Axes>"
      ]
     },
     "metadata": {
      "needs_background": "light"
     },
     "output_type": "display_data"
    }
   ],
   "source": [
    "import seaborn as sb\n",
    "sb.scatterplot(train['Type'],train['Inspection_Results'])"
   ]
  },
  {
   "cell_type": "markdown",
   "metadata": {},
   "source": [
    "conclusion: no corelation found between 'Type' and 'Inspection_Results'"
   ]
  },
  {
   "cell_type": "markdown",
   "metadata": {},
   "source": [
    "# Scatter plot of Inspection Result v/s Reason"
   ]
  },
  {
   "cell_type": "code",
   "execution_count": 36,
   "metadata": {},
   "outputs": [
    {
     "data": {
      "text/plain": [
       "<matplotlib.axes._subplots.AxesSubplot at 0x1ff7ab286d8>"
      ]
     },
     "execution_count": 36,
     "metadata": {},
     "output_type": "execute_result"
    },
    {
     "data": {
      "image/png": "[encoded data removed]",
      "text/plain": [
       "<Figure size 432x288 with 1 Axes>"
      ]
     },
     "metadata": {
      "needs_background": "light"
     },
     "output_type": "display_data"
    }
   ],
   "source": [
    "import seaborn as sb\n",
    "sb.scatterplot(train['Reason'],train['Inspection_Results'])"
   ]
  },
  {
   "cell_type": "markdown",
   "metadata": {},
   "source": [
    "conclusion: no corelation found between 'Reason' and 'Inspection_Results'"
   ]
  },
  {
   "cell_type": "markdown",
   "metadata": {},
   "source": [
    "# Correlation matrix"
   ]
  },
  {
   "cell_type": "code",
   "execution_count": 37,
   "metadata": {},
   "outputs": [
    {
     "data": {
      "text/html": [
       "<div>\n",
       "<style scoped>\n",
       "    .dataframe tbody tr th:only-of-type {\n",
       "        vertical-align: middle;\n",
       "    }\n",
       "\n",
       "    .dataframe tbody tr th {\n",
       "        vertical-align: top;\n",
       "    }\n",
       "\n",
       "    .dataframe thead th {\n",
       "        text-align: right;\n",
       "    }\n",
       "</style>\n",
       "<table border=\"1\" class=\"dataframe\">\n",
       "  <thead>\n",
       "    <tr style=\"text-align: right;\">\n",
       "      <th></th>\n",
       "      <th>ID</th>\n",
       "      <th>LicenseNo</th>\n",
       "      <th>FacilityID</th>\n",
       "      <th>FacilityName</th>\n",
       "      <th>Street</th>\n",
       "      <th>LocationID</th>\n",
       "      <th>SectionViolations</th>\n",
       "      <th>Inspection_Results</th>\n",
       "    </tr>\n",
       "  </thead>\n",
       "  <tbody>\n",
       "    <tr>\n",
       "      <th>ID</th>\n",
       "      <td>1.000000</td>\n",
       "      <td>-0.001000</td>\n",
       "      <td>-0.002463</td>\n",
       "      <td>-0.002147</td>\n",
       "      <td>-0.000081</td>\n",
       "      <td>-0.000495</td>\n",
       "      <td>0.001203</td>\n",
       "      <td>-0.006987</td>\n",
       "    </tr>\n",
       "    <tr>\n",
       "      <th>LicenseNo</th>\n",
       "      <td>-0.001000</td>\n",
       "      <td>1.000000</td>\n",
       "      <td>0.007651</td>\n",
       "      <td>0.004446</td>\n",
       "      <td>-0.008863</td>\n",
       "      <td>-0.003506</td>\n",
       "      <td>-0.040790</td>\n",
       "      <td>-0.042021</td>\n",
       "    </tr>\n",
       "    <tr>\n",
       "      <th>FacilityID</th>\n",
       "      <td>-0.002463</td>\n",
       "      <td>0.007651</td>\n",
       "      <td>1.000000</td>\n",
       "      <td>0.917714</td>\n",
       "      <td>-0.017715</td>\n",
       "      <td>0.002109</td>\n",
       "      <td>0.004258</td>\n",
       "      <td>-0.004908</td>\n",
       "    </tr>\n",
       "    <tr>\n",
       "      <th>FacilityName</th>\n",
       "      <td>-0.002147</td>\n",
       "      <td>0.004446</td>\n",
       "      <td>0.917714</td>\n",
       "      <td>1.000000</td>\n",
       "      <td>-0.012873</td>\n",
       "      <td>0.003299</td>\n",
       "      <td>0.004225</td>\n",
       "      <td>-0.004162</td>\n",
       "    </tr>\n",
       "    <tr>\n",
       "      <th>Street</th>\n",
       "      <td>-0.000081</td>\n",
       "      <td>-0.008863</td>\n",
       "      <td>-0.017715</td>\n",
       "      <td>-0.012873</td>\n",
       "      <td>1.000000</td>\n",
       "      <td>0.015736</td>\n",
       "      <td>0.006610</td>\n",
       "      <td>-0.004127</td>\n",
       "    </tr>\n",
       "    <tr>\n",
       "      <th>LocationID</th>\n",
       "      <td>-0.000495</td>\n",
       "      <td>-0.003506</td>\n",
       "      <td>0.002109</td>\n",
       "      <td>0.003299</td>\n",
       "      <td>0.015736</td>\n",
       "      <td>1.000000</td>\n",
       "      <td>0.007259</td>\n",
       "      <td>-0.001862</td>\n",
       "    </tr>\n",
       "    <tr>\n",
       "      <th>SectionViolations</th>\n",
       "      <td>0.001203</td>\n",
       "      <td>-0.040790</td>\n",
       "      <td>0.004258</td>\n",
       "      <td>0.004225</td>\n",
       "      <td>0.006610</td>\n",
       "      <td>0.007259</td>\n",
       "      <td>1.000000</td>\n",
       "      <td>0.250834</td>\n",
       "    </tr>\n",
       "    <tr>\n",
       "      <th>Inspection_Results</th>\n",
       "      <td>-0.006987</td>\n",
       "      <td>-0.042021</td>\n",
       "      <td>-0.004908</td>\n",
       "      <td>-0.004162</td>\n",
       "      <td>-0.004127</td>\n",
       "      <td>-0.001862</td>\n",
       "      <td>0.250834</td>\n",
       "      <td>1.000000</td>\n",
       "    </tr>\n",
       "  </tbody>\n",
       "</table>\n",
       "</div>"
      ],
      "text/plain": [
       "                          ID  LicenseNo  FacilityID  FacilityName    Street  \\\n",
       "ID                  1.000000  -0.001000   -0.002463     -0.002147 -0.000081   \n",
       "LicenseNo          -0.001000   1.000000    0.007651      0.004446 -0.008863   \n",
       "FacilityID         -0.002463   0.007651    1.000000      0.917714 -0.017715   \n",
       "FacilityName       -0.002147   0.004446    0.917714      1.000000 -0.012873   \n",
       "Street             -0.000081  -0.008863   -0.017715     -0.012873  1.000000   \n",
       "LocationID         -0.000495  -0.003506    0.002109      0.003299  0.015736   \n",
       "SectionViolations   0.001203  -0.040790    0.004258      0.004225  0.006610   \n",
       "Inspection_Results -0.006987  -0.042021   -0.004908     -0.004162 -0.004127   \n",
       "\n",
       "                    LocationID  SectionViolations  Inspection_Results  \n",
       "ID                   -0.000495           0.001203           -0.006987  \n",
       "LicenseNo            -0.003506          -0.040790           -0.042021  \n",
       "FacilityID            0.002109           0.004258           -0.004908  \n",
       "FacilityName          0.003299           0.004225           -0.004162  \n",
       "Street                0.015736           0.006610           -0.004127  \n",
       "LocationID            1.000000           0.007259           -0.001862  \n",
       "SectionViolations     0.007259           1.000000            0.250834  \n",
       "Inspection_Results   -0.001862           0.250834            1.000000  "
      ]
     },
     "execution_count": 37,
     "metadata": {},
     "output_type": "execute_result"
    }
   ],
   "source": [
    "train.corr()"
   ]
  },
  {
   "cell_type": "code",
   "execution_count": 38,
   "metadata": {},
   "outputs": [
    {
     "data": {
      "text/plain": [
       "<matplotlib.axes._subplots.AxesSubplot at 0x1ff7b0b4f60>"
      ]
     },
     "execution_count": 38,
     "metadata": {},
     "output_type": "execute_result"
    },
    {
     "data": {
      "image/png": "[encoded data removed]",
      "text/plain": [
       "<Figure size 576x576 with 2 Axes>"
      ]
     },
     "metadata": {
      "needs_background": "light"
     },
     "output_type": "display_data"
    }
   ],
   "source": [
    "plt.figure(figsize=(8,8))\n",
    "sns.heatmap(train.corr(),cmap='Reds',annot=True)"
   ]
  },
  {
   "cell_type": "code",
   "execution_count": null,
   "metadata": {},
   "outputs": [],
   "source": []
  },
  {
   "cell_type": "code",
   "execution_count": null,
   "metadata": {},
   "outputs": [],
   "source": []
  },
  {
   "cell_type": "code",
   "execution_count": 60,
   "metadata": {},
   "outputs": [],
   "source": [
    "\n",
    "def get_date_features(df):\n",
    "    df['Date'] = pd.to_datetime(df[\"Date\"], format = \"%d-%m-%Y\", errors='coerce')\n",
    "    df['year'] = df['Date'].dt.year\n",
    "    df['month'] = df['Date'].dt.month\n",
    "    df['day'] = df['Date'].dt.day\n",
    "\n",
    "get_date_features(df)\n"
   ]
  },
  {
   "cell_type": "code",
   "execution_count": 40,
   "metadata": {},
   "outputs": [],
   "source": [
    "for c in ['FacilityID', 'FacilityName', 'LicenseNo', 'Geo_Loc']:\n",
    "    temp = df.sort_values(by='Date').groupby(c)['Date'].diff(1).sort_index()\n",
    "    df[f'next_Inspection_day_diff_{c}'] = temp.dt.days"
   ]
  },
  {
   "cell_type": "code",
   "execution_count": 41,
   "metadata": {},
   "outputs": [],
   "source": [
    "df[['prev_Reason', 'prev_SectionViolations']] = df.sort_values(by='Date').groupby('FacilityID')[['Reason', 'SectionViolations']].shift(1).sort_index()"
   ]
  },
  {
   "cell_type": "code",
   "execution_count": 42,
   "metadata": {},
   "outputs": [],
   "source": [
    "for i in range(1, 6):\n",
    "    df[[f'next{i}_Reason_LicenseNo', f'next{i}_SectionViolations_LicenseNo', f'next{i}_RiskLevel_LicenseNo']] = df.sort_values(by='Date').groupby('LicenseNo')[['Reason', 'SectionViolations', 'RiskLevel']].shift(-i).sort_index()\n",
    "    \n",
    "for i in range(1, 6):\n",
    "    df[[f'next{i}_Reason_geoloc', f'next{i}_SectionViolations_geoloc', f'next{i}_RiskLevel_geoloc']] = df.sort_values(by='Date').groupby('Geo_Loc')[['Reason', 'SectionViolations', 'RiskLevel']].shift(-i).sort_index()\n",
    "    \n",
    "for i in range(1, 6):\n",
    "    df[[f'next{i}_Reason_id', f'next{i}_SectionViolations_id', f'next{i}_RiskLevel_id']] = df.sort_values(by='Date').groupby('FacilityID')[['Reason', 'SectionViolations', 'RiskLevel']].shift(-i).sort_index()\n",
    "    \n",
    "for i in range(1, 6):\n",
    "    df[[f'next{i}_Reason_name', f'next{i}_SectionViolations_name', f'next{i}_RiskLevel_name']] = df.sort_values(by='Date').groupby('FacilityName')[['Reason', 'SectionViolations', 'RiskLevel']].shift(-i).sort_index()"
   ]
  },
  {
   "cell_type": "code",
   "execution_count": 43,
   "metadata": {},
   "outputs": [],
   "source": [
    "df['SectionViolations_cumsum'] = df.sort_values(by='Date').groupby('FacilityID')['SectionViolations'].cumsum().shift(-1).sort_index()"
   ]
  },
  {
   "cell_type": "code",
   "execution_count": 44,
   "metadata": {},
   "outputs": [],
   "source": [
    "\n",
    "grp = df.groupby('year').agg({'SectionViolations': ['max', 'sum', 'mean', 'min'], 'FacilityID': ['nunique' ,'size'], 'Geo_Loc': ['nunique','size'],\n",
    "                              'FacilityName': ['nunique','size'], 'LocationID': ['nunique','size'], 'LicenseNo': ['nunique','size'] ,'Type': ['nunique' ,'size']})\n",
    "grp.columns = ['_'.join(c).strip('_') + '_yearwise' for c in grp.columns]\n",
    "df = pd.merge(df, grp, how = 'left', on ='year')"
   ]
  },
  {
   "cell_type": "code",
   "execution_count": 45,
   "metadata": {},
   "outputs": [],
   "source": [
    "grp = df.groupby(['FacilityID', 'Date']).agg({'SectionViolations': ['max', 'sum', 'mean', 'min'], 'Geo_Loc': ['nunique','size'],'Reason': ['nunique', 'size'],\n",
    "                                     'FacilityName': ['nunique','size'], 'LocationID': ['nunique','size'], 'LicenseNo': ['nunique','size'] ,'Type': ['nunique' ,'size']})\n",
    "grp.columns = ['_'.join(c).strip('_') + '_FacilityID_and_Date_based' for c in grp.columns]\n",
    "df = pd.merge(df, grp, how = 'left', on =['FacilityID', 'Date'])"
   ]
  },
  {
   "cell_type": "code",
   "execution_count": 46,
   "metadata": {},
   "outputs": [],
   "source": [
    "\n",
    "grp = df.groupby(['FacilityName', 'Date']).agg({'SectionViolations': ['max', 'sum', 'mean', 'min'], 'Geo_Loc': ['nunique','size'],'Reason': ['nunique', 'size'],\n",
    "                                     'FacilityID': ['nunique','size'], 'LocationID': ['nunique','size'], 'LicenseNo': ['nunique','size'] ,'Type': ['nunique' ,'size']})\n",
    "grp.columns = ['_'.join(c).strip('_') + '_FacilityName_and_Date_based' for c in grp.columns]\n",
    "df = pd.merge(df, grp, how = 'left', on =['FacilityName', 'Date'])"
   ]
  },
  {
   "cell_type": "code",
   "execution_count": 56,
   "metadata": {},
   "outputs": [],
   "source": [
    "grp = df.groupby(['LicenseNo', 'Date']).agg({'SectionViolations': ['max', 'sum', 'mean', 'min'], 'Geo_Loc': ['nunique','size'],'Reason': ['nunique', 'size'],\n",
    "                                     'FacilityID': ['nunique','size'], 'LocationID': ['nunique','size'], 'LicenseNo': ['nunique','size'] ,'Type': ['nunique' ,'size']})\n",
    "grp.columns = ['_'.join(c).strip('_') + '_LicenseNo_and_Date_based' for c in grp.columns]\n",
    "df = pd.merge(df, grp, how = 'left', on =['LicenseNo', 'Date'])"
   ]
  },
  {
   "cell_type": "code",
   "execution_count": 48,
   "metadata": {},
   "outputs": [],
   "source": [
    "grp = df.groupby('LicenseNo').agg({'SectionViolations': ['mean'], 'FacilityID': ['nunique'],\n",
    "                              'FacilityName': ['nunique'], 'LocationID': ['nunique'], 'Geo_Loc': ['nunique']})\n",
    "grp.columns = ['_'.join(c).strip('_') + '_Geo_Loc_based' for c in grp.columns]\n",
    "df = pd.merge(df, grp, how = 'left', on ='LicenseNo')"
   ]
  },
  {
   "cell_type": "code",
   "execution_count": 49,
   "metadata": {},
   "outputs": [],
   "source": [
    "\n",
    "grp = df.groupby('FacilityID').agg({'SectionViolations': ['max'], 'Geo_Loc': ['nunique'],\n",
    "                              'FacilityName': ['nunique'], 'LocationID': ['nunique'], 'LicenseNo': ['nunique']})\n",
    "grp.columns = ['_'.join(c).strip('_') + '_FacilityID_based' for c in grp.columns]\n",
    "df = pd.merge(df, grp, how = 'left', on ='FacilityID')"
   ]
  },
  {
   "cell_type": "code",
   "execution_count": 50,
   "metadata": {},
   "outputs": [],
   "source": [
    "\n",
    "grp = df.groupby('Reason').agg({'SectionViolations': ['max'], 'FacilityID': ['nunique'], 'Geo_Loc': ['nunique'],\n",
    "                              'FacilityName': ['nunique'], 'LocationID': ['nunique'], 'LicenseNo': ['nunique']})\n",
    "grp.columns = ['_'.join(c).strip('_') + '_Reason_based' for c in grp.columns]\n",
    "df = pd.merge(df, grp, how = 'left', on ='Reason')"
   ]
  },
  {
   "cell_type": "code",
   "execution_count": 51,
   "metadata": {},
   "outputs": [],
   "source": [
    "\n",
    "df[f'n_days_from_start'] = (df['Date'].dt.date - df['Date'].min().date()).dt.days\n",
    "df[f'n_weeks_from_start'] = (df['Date'].dt.date - df['Date'].min().date()).dt.days//7\n",
    "df[f'n_days_from_end'] = (df['Date'].max().date() - df['Date'].dt.date).dt.days\n",
    "df[f'n_weeks_from_end'] = (df['Date'].max().date() - df['Date'].dt.date).dt.days//7"
   ]
  },
  {
   "cell_type": "code",
   "execution_count": 52,
   "metadata": {},
   "outputs": [
    {
     "data": {
      "application/vnd.jupyter.widget-view+json": {
       "model_id": "878ec2ac313e4bbd9ff0553175dc24b1",
       "version_major": 2,
       "version_minor": 0
      },
      "text/plain": [
       "HBox(children=(IntProgress(value=0, max=3), HTML(value='')))"
      ]
     },
     "metadata": {},
     "output_type": "display_data"
    },
    {
     "name": "stdout",
     "output_type": "stream",
     "text": [
      "\n"
     ]
    }
   ],
   "source": [
    "from tqdm import tqdm_notebook\n",
    "for c in tqdm_notebook(['FacilityID', 'FacilityName', 'LicenseNo']):\n",
    "    df[f'next_inspection_day_diff_{c}'] = df.sort_values(by='Date').groupby(c)['n_days_from_start'].apply(lambda x: x - x.shift(-1))\n",
    "    df[f'prev_inspection_day_diff_{c}'] = df.sort_values(by='Date').groupby(c)['n_days_from_start'].apply(lambda x: x - x.shift(1))"
   ]
  },
  {
   "cell_type": "code",
   "execution_count": 53,
   "metadata": {},
   "outputs": [
    {
     "data": {
      "application/vnd.jupyter.widget-view+json": {
       "model_id": "eae0fb8645914e5fb4c3838d0fb10b7e",
       "version_major": 2,
       "version_minor": 0
      },
      "text/plain": [
       "HBox(children=(IntProgress(value=0, max=3), HTML(value='')))"
      ]
     },
     "metadata": {},
     "output_type": "display_data"
    },
    {
     "name": "stdout",
     "output_type": "stream",
     "text": [
      "\n"
     ]
    }
   ],
   "source": [
    "\n",
    "for c in tqdm_notebook(['FacilityID', 'FacilityName', 'LicenseNo']):\n",
    "    df[f'next2_inspection_day_diff_{c}'] = df.sort_values(by='Date').groupby(c)['n_days_from_start'].apply(lambda x: x - x.shift(-2))\n",
    "    df[f'prev2_inspection_day_diff_{c}'] = df.sort_values(by='Date').groupby(c)['n_days_from_start'].apply(lambda x: x - x.shift(2))"
   ]
  },
  {
   "cell_type": "code",
   "execution_count": 57,
   "metadata": {},
   "outputs": [
    {
     "data": {
      "text/plain": [
       "<pandas.core.groupby.generic.SeriesGroupBy object at 0x000001FF7A3B54E0>"
      ]
     },
     "execution_count": 57,
     "metadata": {},
     "output_type": "execute_result"
    }
   ],
   "source": [
    "df.groupby('FacilityID')['Date']"
   ]
  },
  {
   "cell_type": "code",
   "execution_count": 58,
   "metadata": {},
   "outputs": [],
   "source": [
    "\n",
    "df[f'n_days_from_start_fid'] = df.groupby('FacilityID')['Date'].apply(lambda x: (x - x.min()).dt.days)\n",
    "df[f'n_days_from_end_fid'] = df.groupby('FacilityID')['Date'].apply(lambda x: (x.max() - x).dt.days)\n",
    "df[f'n_days_from_end_lno'] = df.groupby('LicenseNo')['Date'].apply(lambda x: (x.max() - x).dt.days)\n",
    "df[f'n_days_from_start_lno'] = df.groupby('LicenseNo')['Date'].apply(lambda x: (x-x.min()).dt.days)"
   ]
  },
  {
   "cell_type": "code",
   "execution_count": 59,
   "metadata": {},
   "outputs": [],
   "source": [
    "df[f'n_days_from_start_fn'] = df.groupby('FacilityName')['Date'].apply(lambda x: (x - x.min()).dt.days)\n",
    "df[f'n_days_from_end_fn'] = df.groupby('FacilityName')['Date'].apply(lambda x: (x.max() - x).dt.days)\n",
    "df[f'n_days_from_start_geoloc'] = df.groupby('Geo_Loc')['Date'].apply(lambda x: (x - x.min()).dt.days)\n",
    "df[f'n_days_from_end_geoloc'] = df.groupby('Geo_Loc')['Date'].apply(lambda x: (x.max() - x).dt.days)"
   ]
  },
  {
   "cell_type": "code",
   "execution_count": 63,
   "metadata": {},
   "outputs": [
    {
     "data": {
      "application/vnd.jupyter.widget-view+json": {
       "model_id": "c6e2dc5ad005449b8c8b508d9e555bb9",
       "version_major": 2,
       "version_minor": 0
      },
      "text/plain": [
       "HBox(children=(IntProgress(value=0, max=7), HTML(value='')))"
      ]
     },
     "metadata": {},
     "output_type": "display_data"
    },
    {
     "name": "stdout",
     "output_type": "stream",
     "text": [
      "\n"
     ]
    }
   ],
   "source": [
    "\n",
    "high_cardinality_cols = ['FacilityID', 'FacilityName', 'Geo_Loc', 'LicenseNo', 'Street', 'Type', 'LocationID']\n",
    "for c in tqdm_notebook(high_cardinality_cols):\n",
    "    temp = pd.Series(pd.factorize(df['Date'].astype('str') + df[c].astype('str'))[0])\n",
    "    temp =  temp.map(temp.value_counts())\n",
    "    df[f'Date_{c}_freq'] = temp"
   ]
  },
  {
   "cell_type": "code",
   "execution_count": 64,
   "metadata": {},
   "outputs": [],
   "source": [
    "\n",
    "cat_cols = ['City', 'Date', 'FacilityID', 'FacilityName', 'Geo_Loc', 'LicenseNo', 'LocationID', 'Reason', 'RiskLevel', 'State', 'Street', 'Type']\n",
    "obj_cols = df.select_dtypes('object').columns.tolist()\n",
    "cat_cols = list(set(cat_cols + obj_cols))\n",
    "df[cat_cols] = df[cat_cols].apply(lambda x: pd.factorize(x)[0])"
   ]
  },
  {
   "cell_type": "code",
   "execution_count": 65,
   "metadata": {},
   "outputs": [],
   "source": [
    "df[[c + '_freq' for c in cat_cols]] = df[cat_cols].apply(lambda x: x.map(x.value_counts()))"
   ]
  },
  {
   "cell_type": "code",
   "execution_count": 66,
   "metadata": {},
   "outputs": [],
   "source": [
    "train, test = df.iloc[:train.shape[0]], df.iloc[train.shape[0]:]\n",
    "test.reset_index(drop=True, inplace=True)\n",
    "target = train[TARGET_COL]\n",
    "features = [c for c in train.columns if c not in [ID_COL, TARGET_COL]]"
   ]
  },
  {
   "cell_type": "code",
   "execution_count": 67,
   "metadata": {},
   "outputs": [
    {
     "name": "stdout",
     "output_type": "stream",
     "text": [
      "247\n"
     ]
    }
   ],
   "source": [
    "print(len(features))"
   ]
  },
  {
   "cell_type": "code",
   "execution_count": 68,
   "metadata": {},
   "outputs": [],
   "source": [
    "\n",
    "X_trn, X_val, y_trn, y_val = train_test_split(train[features], target, test_size=0.1, stratify=target, random_state=10)\n",
    "X_test = test[features]"
   ]
  },
  {
   "cell_type": "code",
   "execution_count": 69,
   "metadata": {},
   "outputs": [
    {
     "name": "stdout",
     "output_type": "stream",
     "text": [
      "Training until validation scores don't improve for 10 rounds\n",
      "[100]\ttraining's multi_logloss: 0.460756\tvalid_1's multi_logloss: 0.469812\n",
      "[200]\ttraining's multi_logloss: 0.243282\tvalid_1's multi_logloss: 0.257823\n",
      "Did not meet early stopping. Best iteration is:\n",
      "[200]\ttraining's multi_logloss: 0.243282\tvalid_1's multi_logloss: 0.257823\n",
      "Log loss for Model 1 is: 0.25782260063509466\n"
     ]
    }
   ],
   "source": [
    "\n",
    "clf = LGBMClassifier(learning_rate=0.01, colsample_bytree=0.3, reg_alpha=3, reg_lambda=3, max_depth=-1, n_estimators=200, min_child_samples=15, num_leaves=141)\n",
    "_ = clf.fit(X_trn, y_trn, eval_set=[(X_trn, y_trn), (X_val, y_val)], verbose=100, early_stopping_rounds=10)\n",
    "predictions_val_lgb = clf.predict_proba(X_val)\n",
    "print(f\"Log loss for Model 1 is: {log_loss(y_val, predictions_val_lgb)}\")"
   ]
  },
  {
   "cell_type": "code",
   "execution_count": 70,
   "metadata": {},
   "outputs": [
    {
     "data": {
      "text/plain": [
       "<matplotlib.axes._subplots.AxesSubplot at 0x15ed6095c50>"
      ]
     },
     "execution_count": 70,
     "metadata": {},
     "output_type": "execute_result"
    },
    {
     "data": {
      "image/png": "[encoded data removed]",
      "text/plain": [
       "<Figure size 432x288 with 1 Axes>"
      ]
     },
     "metadata": {
      "needs_background": "light"
     },
     "output_type": "display_data"
    }
   ],
   "source": [
    "fi = pd.Series(index=features, data = clf.feature_importances_)\n",
    "fi.sort_values(ascending=False)[:20][::-1].plot.barh()"
   ]
  },
  {
   "cell_type": "code",
   "execution_count": 71,
   "metadata": {},
   "outputs": [],
   "source": [
    "predictions_test_lgb = clf.predict_proba(X_test)"
   ]
  },
  {
   "cell_type": "code",
   "execution_count": 72,
   "metadata": {},
   "outputs": [],
   "source": [
    "\n",
    "target_mapper = {0:'FACILITY CHANGED',\n",
    "1:'FAIL',\n",
    "2:'FURTHER INSPECTION REQUIRED',\n",
    "3:'INSPECTION OVERRULED',\n",
    "4:'PASS',\n",
    "5:'PASS(CONDITIONAL)',\n",
    "6:'SHUT-DOWN'}\n",
    "sub_df = pd.DataFrame(predictions_test_lgb)\n",
    "sub_df.columns = [target_mapper[c] for c in sub_df.columns]\n"
   ]
  },
  {
   "cell_type": "code",
   "execution_count": 73,
   "metadata": {},
   "outputs": [
    {
     "data": {
      "text/html": [
       "<div>\n",
       "<style scoped>\n",
       "    .dataframe tbody tr th:only-of-type {\n",
       "        vertical-align: middle;\n",
       "    }\n",
       "\n",
       "    .dataframe tbody tr th {\n",
       "        vertical-align: top;\n",
       "    }\n",
       "\n",
       "    .dataframe thead th {\n",
       "        text-align: right;\n",
       "    }\n",
       "</style>\n",
       "<table border=\"1\" class=\"dataframe\">\n",
       "  <thead>\n",
       "    <tr style=\"text-align: right;\">\n",
       "      <th></th>\n",
       "      <th>FACILITY CHANGED</th>\n",
       "      <th>FAIL</th>\n",
       "      <th>FURTHER INSPECTION REQUIRED</th>\n",
       "      <th>INSPECTION OVERRULED</th>\n",
       "      <th>PASS</th>\n",
       "      <th>PASS(CONDITIONAL)</th>\n",
       "      <th>SHUT-DOWN</th>\n",
       "    </tr>\n",
       "  </thead>\n",
       "  <tbody>\n",
       "    <tr>\n",
       "      <th>0</th>\n",
       "      <td>0.000156</td>\n",
       "      <td>0.655819</td>\n",
       "      <td>0.003968</td>\n",
       "      <td>0.017689</td>\n",
       "      <td>0.143825</td>\n",
       "      <td>0.146872</td>\n",
       "      <td>0.031670</td>\n",
       "    </tr>\n",
       "    <tr>\n",
       "      <th>1</th>\n",
       "      <td>0.000071</td>\n",
       "      <td>0.032281</td>\n",
       "      <td>0.001772</td>\n",
       "      <td>0.006169</td>\n",
       "      <td>0.921178</td>\n",
       "      <td>0.024007</td>\n",
       "      <td>0.014523</td>\n",
       "    </tr>\n",
       "    <tr>\n",
       "      <th>2</th>\n",
       "      <td>0.000526</td>\n",
       "      <td>0.048626</td>\n",
       "      <td>0.004980</td>\n",
       "      <td>0.758820</td>\n",
       "      <td>0.117000</td>\n",
       "      <td>0.037323</td>\n",
       "      <td>0.032726</td>\n",
       "    </tr>\n",
       "    <tr>\n",
       "      <th>3</th>\n",
       "      <td>0.000432</td>\n",
       "      <td>0.071602</td>\n",
       "      <td>0.002801</td>\n",
       "      <td>0.012521</td>\n",
       "      <td>0.106194</td>\n",
       "      <td>0.034152</td>\n",
       "      <td>0.772298</td>\n",
       "    </tr>\n",
       "    <tr>\n",
       "      <th>4</th>\n",
       "      <td>0.000071</td>\n",
       "      <td>0.032214</td>\n",
       "      <td>0.001768</td>\n",
       "      <td>0.006128</td>\n",
       "      <td>0.920560</td>\n",
       "      <td>0.024774</td>\n",
       "      <td>0.014486</td>\n",
       "    </tr>\n",
       "    <tr>\n",
       "      <th>5</th>\n",
       "      <td>0.000420</td>\n",
       "      <td>0.112402</td>\n",
       "      <td>0.007744</td>\n",
       "      <td>0.019597</td>\n",
       "      <td>0.539960</td>\n",
       "      <td>0.162420</td>\n",
       "      <td>0.157458</td>\n",
       "    </tr>\n",
       "    <tr>\n",
       "      <th>6</th>\n",
       "      <td>0.000071</td>\n",
       "      <td>0.032271</td>\n",
       "      <td>0.001768</td>\n",
       "      <td>0.006127</td>\n",
       "      <td>0.921473</td>\n",
       "      <td>0.023802</td>\n",
       "      <td>0.014489</td>\n",
       "    </tr>\n",
       "    <tr>\n",
       "      <th>7</th>\n",
       "      <td>0.000080</td>\n",
       "      <td>0.032423</td>\n",
       "      <td>0.002038</td>\n",
       "      <td>0.006338</td>\n",
       "      <td>0.920023</td>\n",
       "      <td>0.024234</td>\n",
       "      <td>0.014865</td>\n",
       "    </tr>\n",
       "    <tr>\n",
       "      <th>8</th>\n",
       "      <td>0.000072</td>\n",
       "      <td>0.031034</td>\n",
       "      <td>0.001784</td>\n",
       "      <td>0.006720</td>\n",
       "      <td>0.920939</td>\n",
       "      <td>0.024945</td>\n",
       "      <td>0.014507</td>\n",
       "    </tr>\n",
       "    <tr>\n",
       "      <th>9</th>\n",
       "      <td>0.000082</td>\n",
       "      <td>0.033081</td>\n",
       "      <td>0.001853</td>\n",
       "      <td>0.006650</td>\n",
       "      <td>0.916617</td>\n",
       "      <td>0.026549</td>\n",
       "      <td>0.015168</td>\n",
       "    </tr>\n",
       "  </tbody>\n",
       "</table>\n",
       "</div>"
      ],
      "text/plain": [
       "   FACILITY CHANGED      FAIL  FURTHER INSPECTION REQUIRED  \\\n",
       "0          0.000156  0.655819                     0.003968   \n",
       "1          0.000071  0.032281                     0.001772   \n",
       "2          0.000526  0.048626                     0.004980   \n",
       "3          0.000432  0.071602                     0.002801   \n",
       "4          0.000071  0.032214                     0.001768   \n",
       "5          0.000420  0.112402                     0.007744   \n",
       "6          0.000071  0.032271                     0.001768   \n",
       "7          0.000080  0.032423                     0.002038   \n",
       "8          0.000072  0.031034                     0.001784   \n",
       "9          0.000082  0.033081                     0.001853   \n",
       "\n",
       "   INSPECTION OVERRULED      PASS  PASS(CONDITIONAL)  SHUT-DOWN  \n",
       "0              0.017689  0.143825           0.146872   0.031670  \n",
       "1              0.006169  0.921178           0.024007   0.014523  \n",
       "2              0.758820  0.117000           0.037323   0.032726  \n",
       "3              0.012521  0.106194           0.034152   0.772298  \n",
       "4              0.006128  0.920560           0.024774   0.014486  \n",
       "5              0.019597  0.539960           0.162420   0.157458  \n",
       "6              0.006127  0.921473           0.023802   0.014489  \n",
       "7              0.006338  0.920023           0.024234   0.014865  \n",
       "8              0.006720  0.920939           0.024945   0.014507  \n",
       "9              0.006650  0.916617           0.026549   0.015168  "
      ]
     },
     "execution_count": 73,
     "metadata": {},
     "output_type": "execute_result"
    }
   ],
   "source": [
    "sub_df.head(10)"
   ]
  },
  {
   "cell_type": "code",
   "execution_count": null,
   "metadata": {},
   "outputs": [],
   "source": []
  }
 ],
 "metadata": {
  "kernelspec": {
   "display_name": "Python 3",
   "language": "python",
   "name": "python3"
  },
  "language_info": {
   "codemirror_mode": {
    "name": "ipython",
    "version": 3
   },
   "file_extension": ".py",
   "mimetype": "text/x-python",
   "name": "python",
   "nbconvert_exporter": "python",
   "pygments_lexer": "ipython3",
   "version": "3.7.3"
  }
 },
 "nbformat": 4,
 "nbformat_minor": 2
}
